{
  "cells": [
    {
      "cell_type": "markdown",
      "id": "7daedb37",
      "metadata": {
        "id": "7daedb37"
      },
      "source": [
        "# **Machine Learning (ML) - Classification**\n",
        "## **Project: Network_Intrusion_Detection Prediction**"
      ]
    },
    {
      "cell_type": "code",
      "source": [
        "from google.colab import drive\n",
        "drive.mount('/content/drive')"
      ],
      "metadata": {
        "colab": {
          "base_uri": "https://localhost:8080/"
        },
        "id": "LJKQlOY_yqg3",
        "outputId": "152dd0fd-f12d-4799-ded3-20d8c6c93e21"
      },
      "id": "LJKQlOY_yqg3",
      "execution_count": 1,
      "outputs": [
        {
          "output_type": "stream",
          "name": "stdout",
          "text": [
            "Mounted at /content/drive\n"
          ]
        }
      ]
    },
    {
      "cell_type": "markdown",
      "id": "2ca43dae",
      "metadata": {
        "id": "2ca43dae"
      },
      "source": [
        "# **Background :**\n",
        "\n",
        "### The dataset to be audited was provided which consists of a wide variety of intrusions simulated in a military network environment. It created an environment to acquire raw TCP/IP dump data for a network by simulating a typical US Air Force LAN. The LAN was focused like a real environment and blasted with multiple attacks. A connection is a sequence of TCP packets starting and ending at some time duration between which data flows to and from a source IP address to a target IP address under some well-defined protocol. Also, each connection is labelled as either normal or as an attack with exactly one specific attack type."
      ]
    },
    {
      "cell_type": "code",
      "execution_count": 2,
      "id": "eae73c45",
      "metadata": {
        "colab": {
          "base_uri": "https://localhost:8080/"
        },
        "id": "eae73c45",
        "outputId": "1115b803-51ea-4df4-a618-d3149d08782f"
      },
      "outputs": [
        {
          "output_type": "stream",
          "name": "stdout",
          "text": [
            "Requirement already satisfied: lightgbm in /usr/local/lib/python3.7/dist-packages (2.2.3)\n",
            "Requirement already satisfied: scikit-learn in /usr/local/lib/python3.7/dist-packages (from lightgbm) (1.0.1)\n",
            "Requirement already satisfied: scipy in /usr/local/lib/python3.7/dist-packages (from lightgbm) (1.4.1)\n",
            "Requirement already satisfied: numpy in /usr/local/lib/python3.7/dist-packages (from lightgbm) (1.19.5)\n",
            "Requirement already satisfied: joblib>=0.11 in /usr/local/lib/python3.7/dist-packages (from scikit-learn->lightgbm) (1.1.0)\n",
            "Requirement already satisfied: threadpoolctl>=2.0.0 in /usr/local/lib/python3.7/dist-packages (from scikit-learn->lightgbm) (3.0.0)\n"
          ]
        }
      ],
      "source": [
        "!pip install lightgbm"
      ]
    },
    {
      "cell_type": "code",
      "execution_count": 12,
      "id": "a9773893",
      "metadata": {
        "id": "a9773893"
      },
      "outputs": [],
      "source": [
        "import matplotlib.pyplot as plt\n",
        "import pandas as pd\n",
        "import numpy as np\n",
        "import seaborn as sns\n",
        "from sklearn.model_selection import train_test_split, cross_val_score, KFold\n",
        "from sklearn.linear_model import LogisticRegression\n",
        "from sklearn.model_selection import train_test_split\n",
        "from sklearn.neighbors import KNeighborsClassifier\n",
        "from sklearn.feature_selection import SelectKBest\n",
        "from sklearn.feature_selection import SelectPercentile\n",
        "from sklearn.feature_selection import chi2,f_classif\n",
        "from sklearn.metrics import confusion_matrix,accuracy_score,roc_curve,classification_report, f1_score\n",
        "import xgboost as xgb\n",
        "#import xgboost as xgb\n",
        "from sklearn.ensemble import RandomForestClassifier\n",
        "import warnings\n",
        "warnings.filterwarnings('ignore')\n",
        "from sklearn.model_selection import GridSearchCV\n",
        "from sklearn.preprocessing import LabelEncoder\n",
        "from sklearn import preprocessing"
      ]
    },
    {
      "cell_type": "code",
      "execution_count": 4,
      "id": "813a5ecb",
      "metadata": {
        "colab": {
          "base_uri": "https://localhost:8080/",
          "height": 268
        },
        "id": "813a5ecb",
        "outputId": "99ea93ff-306b-4bdf-80a2-653836638a43"
      },
      "outputs": [
        {
          "output_type": "execute_result",
          "data": {
            "text/html": [
              "\n",
              "  <div id=\"df-ceb1690c-c9fb-45c4-a197-448a52b58feb\">\n",
              "    <div class=\"colab-df-container\">\n",
              "      <div>\n",
              "<style scoped>\n",
              "    .dataframe tbody tr th:only-of-type {\n",
              "        vertical-align: middle;\n",
              "    }\n",
              "\n",
              "    .dataframe tbody tr th {\n",
              "        vertical-align: top;\n",
              "    }\n",
              "\n",
              "    .dataframe thead th {\n",
              "        text-align: right;\n",
              "    }\n",
              "</style>\n",
              "<table border=\"1\" class=\"dataframe\">\n",
              "  <thead>\n",
              "    <tr style=\"text-align: right;\">\n",
              "      <th></th>\n",
              "      <th>duration</th>\n",
              "      <th>protocol_type</th>\n",
              "      <th>service</th>\n",
              "      <th>flag</th>\n",
              "      <th>src_bytes</th>\n",
              "      <th>dst_bytes</th>\n",
              "      <th>land</th>\n",
              "      <th>wrong_fragment</th>\n",
              "      <th>urgent</th>\n",
              "      <th>hot</th>\n",
              "      <th>num_failed_logins</th>\n",
              "      <th>logged_in</th>\n",
              "      <th>num_compromised</th>\n",
              "      <th>root_shell</th>\n",
              "      <th>su_attempted</th>\n",
              "      <th>num_root</th>\n",
              "      <th>num_file_creations</th>\n",
              "      <th>num_shells</th>\n",
              "      <th>num_access_files</th>\n",
              "      <th>num_outbound_cmds</th>\n",
              "      <th>is_host_login</th>\n",
              "      <th>is_guest_login</th>\n",
              "      <th>count</th>\n",
              "      <th>srv_count</th>\n",
              "      <th>serror_rate</th>\n",
              "      <th>srv_serror_rate</th>\n",
              "      <th>rerror_rate</th>\n",
              "      <th>srv_rerror_rate</th>\n",
              "      <th>same_srv_rate</th>\n",
              "      <th>diff_srv_rate</th>\n",
              "      <th>srv_diff_host_rate</th>\n",
              "      <th>dst_host_count</th>\n",
              "      <th>dst_host_srv_count</th>\n",
              "      <th>dst_host_same_srv_rate</th>\n",
              "      <th>dst_host_diff_srv_rate</th>\n",
              "      <th>dst_host_same_src_port_rate</th>\n",
              "      <th>dst_host_srv_diff_host_rate</th>\n",
              "      <th>dst_host_serror_rate</th>\n",
              "      <th>dst_host_srv_serror_rate</th>\n",
              "      <th>dst_host_rerror_rate</th>\n",
              "      <th>dst_host_srv_rerror_rate</th>\n",
              "      <th>class</th>\n",
              "    </tr>\n",
              "  </thead>\n",
              "  <tbody>\n",
              "    <tr>\n",
              "      <th>0</th>\n",
              "      <td>0</td>\n",
              "      <td>tcp</td>\n",
              "      <td>ftp_data</td>\n",
              "      <td>SF</td>\n",
              "      <td>491</td>\n",
              "      <td>0</td>\n",
              "      <td>0</td>\n",
              "      <td>0</td>\n",
              "      <td>0</td>\n",
              "      <td>0</td>\n",
              "      <td>0</td>\n",
              "      <td>0</td>\n",
              "      <td>0</td>\n",
              "      <td>0</td>\n",
              "      <td>0</td>\n",
              "      <td>0</td>\n",
              "      <td>0</td>\n",
              "      <td>0</td>\n",
              "      <td>0</td>\n",
              "      <td>0</td>\n",
              "      <td>0</td>\n",
              "      <td>0</td>\n",
              "      <td>2</td>\n",
              "      <td>2</td>\n",
              "      <td>0.0</td>\n",
              "      <td>0.0</td>\n",
              "      <td>0.0</td>\n",
              "      <td>0.0</td>\n",
              "      <td>1.00</td>\n",
              "      <td>0.00</td>\n",
              "      <td>0.00</td>\n",
              "      <td>150</td>\n",
              "      <td>25</td>\n",
              "      <td>0.17</td>\n",
              "      <td>0.03</td>\n",
              "      <td>0.17</td>\n",
              "      <td>0.00</td>\n",
              "      <td>0.00</td>\n",
              "      <td>0.00</td>\n",
              "      <td>0.05</td>\n",
              "      <td>0.00</td>\n",
              "      <td>normal</td>\n",
              "    </tr>\n",
              "    <tr>\n",
              "      <th>1</th>\n",
              "      <td>0</td>\n",
              "      <td>udp</td>\n",
              "      <td>other</td>\n",
              "      <td>SF</td>\n",
              "      <td>146</td>\n",
              "      <td>0</td>\n",
              "      <td>0</td>\n",
              "      <td>0</td>\n",
              "      <td>0</td>\n",
              "      <td>0</td>\n",
              "      <td>0</td>\n",
              "      <td>0</td>\n",
              "      <td>0</td>\n",
              "      <td>0</td>\n",
              "      <td>0</td>\n",
              "      <td>0</td>\n",
              "      <td>0</td>\n",
              "      <td>0</td>\n",
              "      <td>0</td>\n",
              "      <td>0</td>\n",
              "      <td>0</td>\n",
              "      <td>0</td>\n",
              "      <td>13</td>\n",
              "      <td>1</td>\n",
              "      <td>0.0</td>\n",
              "      <td>0.0</td>\n",
              "      <td>0.0</td>\n",
              "      <td>0.0</td>\n",
              "      <td>0.08</td>\n",
              "      <td>0.15</td>\n",
              "      <td>0.00</td>\n",
              "      <td>255</td>\n",
              "      <td>1</td>\n",
              "      <td>0.00</td>\n",
              "      <td>0.60</td>\n",
              "      <td>0.88</td>\n",
              "      <td>0.00</td>\n",
              "      <td>0.00</td>\n",
              "      <td>0.00</td>\n",
              "      <td>0.00</td>\n",
              "      <td>0.00</td>\n",
              "      <td>normal</td>\n",
              "    </tr>\n",
              "    <tr>\n",
              "      <th>2</th>\n",
              "      <td>0</td>\n",
              "      <td>tcp</td>\n",
              "      <td>private</td>\n",
              "      <td>S0</td>\n",
              "      <td>0</td>\n",
              "      <td>0</td>\n",
              "      <td>0</td>\n",
              "      <td>0</td>\n",
              "      <td>0</td>\n",
              "      <td>0</td>\n",
              "      <td>0</td>\n",
              "      <td>0</td>\n",
              "      <td>0</td>\n",
              "      <td>0</td>\n",
              "      <td>0</td>\n",
              "      <td>0</td>\n",
              "      <td>0</td>\n",
              "      <td>0</td>\n",
              "      <td>0</td>\n",
              "      <td>0</td>\n",
              "      <td>0</td>\n",
              "      <td>0</td>\n",
              "      <td>123</td>\n",
              "      <td>6</td>\n",
              "      <td>1.0</td>\n",
              "      <td>1.0</td>\n",
              "      <td>0.0</td>\n",
              "      <td>0.0</td>\n",
              "      <td>0.05</td>\n",
              "      <td>0.07</td>\n",
              "      <td>0.00</td>\n",
              "      <td>255</td>\n",
              "      <td>26</td>\n",
              "      <td>0.10</td>\n",
              "      <td>0.05</td>\n",
              "      <td>0.00</td>\n",
              "      <td>0.00</td>\n",
              "      <td>1.00</td>\n",
              "      <td>1.00</td>\n",
              "      <td>0.00</td>\n",
              "      <td>0.00</td>\n",
              "      <td>anomaly</td>\n",
              "    </tr>\n",
              "    <tr>\n",
              "      <th>3</th>\n",
              "      <td>0</td>\n",
              "      <td>tcp</td>\n",
              "      <td>http</td>\n",
              "      <td>SF</td>\n",
              "      <td>232</td>\n",
              "      <td>8153</td>\n",
              "      <td>0</td>\n",
              "      <td>0</td>\n",
              "      <td>0</td>\n",
              "      <td>0</td>\n",
              "      <td>0</td>\n",
              "      <td>1</td>\n",
              "      <td>0</td>\n",
              "      <td>0</td>\n",
              "      <td>0</td>\n",
              "      <td>0</td>\n",
              "      <td>0</td>\n",
              "      <td>0</td>\n",
              "      <td>0</td>\n",
              "      <td>0</td>\n",
              "      <td>0</td>\n",
              "      <td>0</td>\n",
              "      <td>5</td>\n",
              "      <td>5</td>\n",
              "      <td>0.2</td>\n",
              "      <td>0.2</td>\n",
              "      <td>0.0</td>\n",
              "      <td>0.0</td>\n",
              "      <td>1.00</td>\n",
              "      <td>0.00</td>\n",
              "      <td>0.00</td>\n",
              "      <td>30</td>\n",
              "      <td>255</td>\n",
              "      <td>1.00</td>\n",
              "      <td>0.00</td>\n",
              "      <td>0.03</td>\n",
              "      <td>0.04</td>\n",
              "      <td>0.03</td>\n",
              "      <td>0.01</td>\n",
              "      <td>0.00</td>\n",
              "      <td>0.01</td>\n",
              "      <td>normal</td>\n",
              "    </tr>\n",
              "    <tr>\n",
              "      <th>4</th>\n",
              "      <td>0</td>\n",
              "      <td>tcp</td>\n",
              "      <td>http</td>\n",
              "      <td>SF</td>\n",
              "      <td>199</td>\n",
              "      <td>420</td>\n",
              "      <td>0</td>\n",
              "      <td>0</td>\n",
              "      <td>0</td>\n",
              "      <td>0</td>\n",
              "      <td>0</td>\n",
              "      <td>1</td>\n",
              "      <td>0</td>\n",
              "      <td>0</td>\n",
              "      <td>0</td>\n",
              "      <td>0</td>\n",
              "      <td>0</td>\n",
              "      <td>0</td>\n",
              "      <td>0</td>\n",
              "      <td>0</td>\n",
              "      <td>0</td>\n",
              "      <td>0</td>\n",
              "      <td>30</td>\n",
              "      <td>32</td>\n",
              "      <td>0.0</td>\n",
              "      <td>0.0</td>\n",
              "      <td>0.0</td>\n",
              "      <td>0.0</td>\n",
              "      <td>1.00</td>\n",
              "      <td>0.00</td>\n",
              "      <td>0.09</td>\n",
              "      <td>255</td>\n",
              "      <td>255</td>\n",
              "      <td>1.00</td>\n",
              "      <td>0.00</td>\n",
              "      <td>0.00</td>\n",
              "      <td>0.00</td>\n",
              "      <td>0.00</td>\n",
              "      <td>0.00</td>\n",
              "      <td>0.00</td>\n",
              "      <td>0.00</td>\n",
              "      <td>normal</td>\n",
              "    </tr>\n",
              "  </tbody>\n",
              "</table>\n",
              "</div>\n",
              "      <button class=\"colab-df-convert\" onclick=\"convertToInteractive('df-ceb1690c-c9fb-45c4-a197-448a52b58feb')\"\n",
              "              title=\"Convert this dataframe to an interactive table.\"\n",
              "              style=\"display:none;\">\n",
              "        \n",
              "  <svg xmlns=\"http://www.w3.org/2000/svg\" height=\"24px\"viewBox=\"0 0 24 24\"\n",
              "       width=\"24px\">\n",
              "    <path d=\"M0 0h24v24H0V0z\" fill=\"none\"/>\n",
              "    <path d=\"M18.56 5.44l.94 2.06.94-2.06 2.06-.94-2.06-.94-.94-2.06-.94 2.06-2.06.94zm-11 1L8.5 8.5l.94-2.06 2.06-.94-2.06-.94L8.5 2.5l-.94 2.06-2.06.94zm10 10l.94 2.06.94-2.06 2.06-.94-2.06-.94-.94-2.06-.94 2.06-2.06.94z\"/><path d=\"M17.41 7.96l-1.37-1.37c-.4-.4-.92-.59-1.43-.59-.52 0-1.04.2-1.43.59L10.3 9.45l-7.72 7.72c-.78.78-.78 2.05 0 2.83L4 21.41c.39.39.9.59 1.41.59.51 0 1.02-.2 1.41-.59l7.78-7.78 2.81-2.81c.8-.78.8-2.07 0-2.86zM5.41 20L4 18.59l7.72-7.72 1.47 1.35L5.41 20z\"/>\n",
              "  </svg>\n",
              "      </button>\n",
              "      \n",
              "  <style>\n",
              "    .colab-df-container {\n",
              "      display:flex;\n",
              "      flex-wrap:wrap;\n",
              "      gap: 12px;\n",
              "    }\n",
              "\n",
              "    .colab-df-convert {\n",
              "      background-color: #E8F0FE;\n",
              "      border: none;\n",
              "      border-radius: 50%;\n",
              "      cursor: pointer;\n",
              "      display: none;\n",
              "      fill: #1967D2;\n",
              "      height: 32px;\n",
              "      padding: 0 0 0 0;\n",
              "      width: 32px;\n",
              "    }\n",
              "\n",
              "    .colab-df-convert:hover {\n",
              "      background-color: #E2EBFA;\n",
              "      box-shadow: 0px 1px 2px rgba(60, 64, 67, 0.3), 0px 1px 3px 1px rgba(60, 64, 67, 0.15);\n",
              "      fill: #174EA6;\n",
              "    }\n",
              "\n",
              "    [theme=dark] .colab-df-convert {\n",
              "      background-color: #3B4455;\n",
              "      fill: #D2E3FC;\n",
              "    }\n",
              "\n",
              "    [theme=dark] .colab-df-convert:hover {\n",
              "      background-color: #434B5C;\n",
              "      box-shadow: 0px 1px 3px 1px rgba(0, 0, 0, 0.15);\n",
              "      filter: drop-shadow(0px 1px 2px rgba(0, 0, 0, 0.3));\n",
              "      fill: #FFFFFF;\n",
              "    }\n",
              "  </style>\n",
              "\n",
              "      <script>\n",
              "        const buttonEl =\n",
              "          document.querySelector('#df-ceb1690c-c9fb-45c4-a197-448a52b58feb button.colab-df-convert');\n",
              "        buttonEl.style.display =\n",
              "          google.colab.kernel.accessAllowed ? 'block' : 'none';\n",
              "\n",
              "        async function convertToInteractive(key) {\n",
              "          const element = document.querySelector('#df-ceb1690c-c9fb-45c4-a197-448a52b58feb');\n",
              "          const dataTable =\n",
              "            await google.colab.kernel.invokeFunction('convertToInteractive',\n",
              "                                                     [key], {});\n",
              "          if (!dataTable) return;\n",
              "\n",
              "          const docLinkHtml = 'Like what you see? Visit the ' +\n",
              "            '<a target=\"_blank\" href=https://colab.research.google.com/notebooks/data_table.ipynb>data table notebook</a>'\n",
              "            + ' to learn more about interactive tables.';\n",
              "          element.innerHTML = '';\n",
              "          dataTable['output_type'] = 'display_data';\n",
              "          await google.colab.output.renderOutput(dataTable, element);\n",
              "          const docLink = document.createElement('div');\n",
              "          docLink.innerHTML = docLinkHtml;\n",
              "          element.appendChild(docLink);\n",
              "        }\n",
              "      </script>\n",
              "    </div>\n",
              "  </div>\n",
              "  "
            ],
            "text/plain": [
              "   duration protocol_type  ... dst_host_srv_rerror_rate    class\n",
              "0         0           tcp  ...                     0.00   normal\n",
              "1         0           udp  ...                     0.00   normal\n",
              "2         0           tcp  ...                     0.00  anomaly\n",
              "3         0           tcp  ...                     0.01   normal\n",
              "4         0           tcp  ...                     0.00   normal\n",
              "\n",
              "[5 rows x 42 columns]"
            ]
          },
          "metadata": {},
          "execution_count": 4
        }
      ],
      "source": [
        "df = pd.read_csv('/content/drive/MyDrive/Train_data.csv')\n",
        "df.head()# take an overview look at the data\n"
      ]
    },
    {
      "cell_type": "code",
      "execution_count": 5,
      "id": "1b03b71f",
      "metadata": {
        "colab": {
          "base_uri": "https://localhost:8080/"
        },
        "id": "1b03b71f",
        "outputId": "2fe90e1d-54e9-4f3b-a7ac-d4115bec4fb8"
      },
      "outputs": [
        {
          "output_type": "execute_result",
          "data": {
            "text/plain": [
              "(25192, 42)"
            ]
          },
          "metadata": {},
          "execution_count": 5
        }
      ],
      "source": [
        "#Total number of records: 25192 ,Total number of features: 42\n",
        "df.shape  "
      ]
    },
    {
      "cell_type": "markdown",
      "id": "c015ea38",
      "metadata": {
        "id": "c015ea38"
      },
      "source": [
        "# **Part 1: Data Cleaning**"
      ]
    },
    {
      "cell_type": "code",
      "execution_count": 6,
      "id": "b8018e54",
      "metadata": {
        "id": "b8018e54",
        "outputId": "cf172dce-50c3-46e0-92e3-d57dd0ac4f72",
        "colab": {
          "base_uri": "https://localhost:8080/"
        }
      },
      "outputs": [
        {
          "output_type": "execute_result",
          "data": {
            "text/plain": [
              "duration                       0\n",
              "protocol_type                  0\n",
              "service                        0\n",
              "flag                           0\n",
              "src_bytes                      0\n",
              "dst_bytes                      0\n",
              "land                           0\n",
              "wrong_fragment                 0\n",
              "urgent                         0\n",
              "hot                            0\n",
              "num_failed_logins              0\n",
              "logged_in                      0\n",
              "num_compromised                0\n",
              "root_shell                     0\n",
              "su_attempted                   0\n",
              "num_root                       0\n",
              "num_file_creations             0\n",
              "num_shells                     0\n",
              "num_access_files               0\n",
              "num_outbound_cmds              0\n",
              "is_host_login                  0\n",
              "is_guest_login                 0\n",
              "count                          0\n",
              "srv_count                      0\n",
              "serror_rate                    0\n",
              "srv_serror_rate                0\n",
              "rerror_rate                    0\n",
              "srv_rerror_rate                0\n",
              "same_srv_rate                  0\n",
              "diff_srv_rate                  0\n",
              "srv_diff_host_rate             0\n",
              "dst_host_count                 0\n",
              "dst_host_srv_count             0\n",
              "dst_host_same_srv_rate         0\n",
              "dst_host_diff_srv_rate         0\n",
              "dst_host_same_src_port_rate    0\n",
              "dst_host_srv_diff_host_rate    0\n",
              "dst_host_serror_rate           0\n",
              "dst_host_srv_serror_rate       0\n",
              "dst_host_rerror_rate           0\n",
              "dst_host_srv_rerror_rate       0\n",
              "class                          0\n",
              "dtype: int64"
            ]
          },
          "metadata": {},
          "execution_count": 6
        }
      ],
      "source": [
        "df.isna().sum()"
      ]
    },
    {
      "cell_type": "markdown",
      "id": "2336169f",
      "metadata": {
        "id": "2336169f"
      },
      "source": [
        "It appears that there are no null values occurred in the dataset.\n"
      ]
    },
    {
      "cell_type": "code",
      "execution_count": 7,
      "id": "cc5afa74",
      "metadata": {
        "colab": {
          "base_uri": "https://localhost:8080/"
        },
        "id": "cc5afa74",
        "outputId": "9a6a5305-4028-4f6a-ac7e-6ab5ed0eb840"
      },
      "outputs": [
        {
          "output_type": "execute_result",
          "data": {
            "text/plain": [
              "duration                         int64\n",
              "protocol_type                   object\n",
              "service                         object\n",
              "flag                            object\n",
              "src_bytes                        int64\n",
              "dst_bytes                        int64\n",
              "land                             int64\n",
              "wrong_fragment                   int64\n",
              "urgent                           int64\n",
              "hot                              int64\n",
              "num_failed_logins                int64\n",
              "logged_in                        int64\n",
              "num_compromised                  int64\n",
              "root_shell                       int64\n",
              "su_attempted                     int64\n",
              "num_root                         int64\n",
              "num_file_creations               int64\n",
              "num_shells                       int64\n",
              "num_access_files                 int64\n",
              "num_outbound_cmds                int64\n",
              "is_host_login                    int64\n",
              "is_guest_login                   int64\n",
              "count                            int64\n",
              "srv_count                        int64\n",
              "serror_rate                    float64\n",
              "srv_serror_rate                float64\n",
              "rerror_rate                    float64\n",
              "srv_rerror_rate                float64\n",
              "same_srv_rate                  float64\n",
              "diff_srv_rate                  float64\n",
              "srv_diff_host_rate             float64\n",
              "dst_host_count                   int64\n",
              "dst_host_srv_count               int64\n",
              "dst_host_same_srv_rate         float64\n",
              "dst_host_diff_srv_rate         float64\n",
              "dst_host_same_src_port_rate    float64\n",
              "dst_host_srv_diff_host_rate    float64\n",
              "dst_host_serror_rate           float64\n",
              "dst_host_srv_serror_rate       float64\n",
              "dst_host_rerror_rate           float64\n",
              "dst_host_srv_rerror_rate       float64\n",
              "class                           object\n",
              "dtype: object"
            ]
          },
          "metadata": {},
          "execution_count": 7
        }
      ],
      "source": [
        "df.dtypes # Datatypes of different features.\n"
      ]
    },
    {
      "cell_type": "code",
      "execution_count": 8,
      "id": "783a035c",
      "metadata": {
        "id": "783a035c"
      },
      "outputs": [],
      "source": [
        "df.rename(columns = {'class':'attack'}, inplace=True)"
      ]
    },
    {
      "cell_type": "code",
      "execution_count": null,
      "id": "31b6d16c",
      "metadata": {
        "colab": {
          "base_uri": "https://localhost:8080/",
          "height": 224
        },
        "id": "31b6d16c",
        "outputId": "48eed34b-a2b0-4504-cbe0-c857ef51ea35"
      },
      "outputs": [
        {
          "output_type": "execute_result",
          "data": {
            "text/html": [
              "<div>\n",
              "<style scoped>\n",
              "    .dataframe tbody tr th:only-of-type {\n",
              "        vertical-align: middle;\n",
              "    }\n",
              "\n",
              "    .dataframe tbody tr th {\n",
              "        vertical-align: top;\n",
              "    }\n",
              "\n",
              "    .dataframe thead th {\n",
              "        text-align: right;\n",
              "    }\n",
              "</style>\n",
              "<table border=\"1\" class=\"dataframe\">\n",
              "  <thead>\n",
              "    <tr style=\"text-align: right;\">\n",
              "      <th></th>\n",
              "      <th>duration</th>\n",
              "      <th>protocol_type</th>\n",
              "      <th>service</th>\n",
              "      <th>flag</th>\n",
              "      <th>src_bytes</th>\n",
              "      <th>dst_bytes</th>\n",
              "      <th>land</th>\n",
              "      <th>wrong_fragment</th>\n",
              "      <th>urgent</th>\n",
              "      <th>hot</th>\n",
              "      <th>num_failed_logins</th>\n",
              "      <th>logged_in</th>\n",
              "      <th>num_compromised</th>\n",
              "      <th>root_shell</th>\n",
              "      <th>su_attempted</th>\n",
              "      <th>num_root</th>\n",
              "      <th>num_file_creations</th>\n",
              "      <th>num_shells</th>\n",
              "      <th>num_access_files</th>\n",
              "      <th>num_outbound_cmds</th>\n",
              "      <th>is_host_login</th>\n",
              "      <th>is_guest_login</th>\n",
              "      <th>count</th>\n",
              "      <th>srv_count</th>\n",
              "      <th>serror_rate</th>\n",
              "      <th>srv_serror_rate</th>\n",
              "      <th>rerror_rate</th>\n",
              "      <th>srv_rerror_rate</th>\n",
              "      <th>same_srv_rate</th>\n",
              "      <th>diff_srv_rate</th>\n",
              "      <th>srv_diff_host_rate</th>\n",
              "      <th>dst_host_count</th>\n",
              "      <th>dst_host_srv_count</th>\n",
              "      <th>dst_host_same_srv_rate</th>\n",
              "      <th>dst_host_diff_srv_rate</th>\n",
              "      <th>dst_host_same_src_port_rate</th>\n",
              "      <th>dst_host_srv_diff_host_rate</th>\n",
              "      <th>dst_host_serror_rate</th>\n",
              "      <th>dst_host_srv_serror_rate</th>\n",
              "      <th>dst_host_rerror_rate</th>\n",
              "      <th>dst_host_srv_rerror_rate</th>\n",
              "      <th>attack</th>\n",
              "    </tr>\n",
              "  </thead>\n",
              "  <tbody>\n",
              "    <tr>\n",
              "      <th>0</th>\n",
              "      <td>0</td>\n",
              "      <td>tcp</td>\n",
              "      <td>ftp_data</td>\n",
              "      <td>SF</td>\n",
              "      <td>491</td>\n",
              "      <td>0</td>\n",
              "      <td>0</td>\n",
              "      <td>0</td>\n",
              "      <td>0</td>\n",
              "      <td>0</td>\n",
              "      <td>0</td>\n",
              "      <td>0</td>\n",
              "      <td>0</td>\n",
              "      <td>0</td>\n",
              "      <td>0</td>\n",
              "      <td>0</td>\n",
              "      <td>0</td>\n",
              "      <td>0</td>\n",
              "      <td>0</td>\n",
              "      <td>0</td>\n",
              "      <td>0</td>\n",
              "      <td>0</td>\n",
              "      <td>2</td>\n",
              "      <td>2</td>\n",
              "      <td>0.0</td>\n",
              "      <td>0.0</td>\n",
              "      <td>0.0</td>\n",
              "      <td>0.0</td>\n",
              "      <td>1.00</td>\n",
              "      <td>0.00</td>\n",
              "      <td>0.00</td>\n",
              "      <td>150</td>\n",
              "      <td>25</td>\n",
              "      <td>0.17</td>\n",
              "      <td>0.03</td>\n",
              "      <td>0.17</td>\n",
              "      <td>0.00</td>\n",
              "      <td>0.00</td>\n",
              "      <td>0.00</td>\n",
              "      <td>0.05</td>\n",
              "      <td>0.00</td>\n",
              "      <td>normal</td>\n",
              "    </tr>\n",
              "    <tr>\n",
              "      <th>1</th>\n",
              "      <td>0</td>\n",
              "      <td>udp</td>\n",
              "      <td>other</td>\n",
              "      <td>SF</td>\n",
              "      <td>146</td>\n",
              "      <td>0</td>\n",
              "      <td>0</td>\n",
              "      <td>0</td>\n",
              "      <td>0</td>\n",
              "      <td>0</td>\n",
              "      <td>0</td>\n",
              "      <td>0</td>\n",
              "      <td>0</td>\n",
              "      <td>0</td>\n",
              "      <td>0</td>\n",
              "      <td>0</td>\n",
              "      <td>0</td>\n",
              "      <td>0</td>\n",
              "      <td>0</td>\n",
              "      <td>0</td>\n",
              "      <td>0</td>\n",
              "      <td>0</td>\n",
              "      <td>13</td>\n",
              "      <td>1</td>\n",
              "      <td>0.0</td>\n",
              "      <td>0.0</td>\n",
              "      <td>0.0</td>\n",
              "      <td>0.0</td>\n",
              "      <td>0.08</td>\n",
              "      <td>0.15</td>\n",
              "      <td>0.00</td>\n",
              "      <td>255</td>\n",
              "      <td>1</td>\n",
              "      <td>0.00</td>\n",
              "      <td>0.60</td>\n",
              "      <td>0.88</td>\n",
              "      <td>0.00</td>\n",
              "      <td>0.00</td>\n",
              "      <td>0.00</td>\n",
              "      <td>0.00</td>\n",
              "      <td>0.00</td>\n",
              "      <td>normal</td>\n",
              "    </tr>\n",
              "    <tr>\n",
              "      <th>2</th>\n",
              "      <td>0</td>\n",
              "      <td>tcp</td>\n",
              "      <td>private</td>\n",
              "      <td>S0</td>\n",
              "      <td>0</td>\n",
              "      <td>0</td>\n",
              "      <td>0</td>\n",
              "      <td>0</td>\n",
              "      <td>0</td>\n",
              "      <td>0</td>\n",
              "      <td>0</td>\n",
              "      <td>0</td>\n",
              "      <td>0</td>\n",
              "      <td>0</td>\n",
              "      <td>0</td>\n",
              "      <td>0</td>\n",
              "      <td>0</td>\n",
              "      <td>0</td>\n",
              "      <td>0</td>\n",
              "      <td>0</td>\n",
              "      <td>0</td>\n",
              "      <td>0</td>\n",
              "      <td>123</td>\n",
              "      <td>6</td>\n",
              "      <td>1.0</td>\n",
              "      <td>1.0</td>\n",
              "      <td>0.0</td>\n",
              "      <td>0.0</td>\n",
              "      <td>0.05</td>\n",
              "      <td>0.07</td>\n",
              "      <td>0.00</td>\n",
              "      <td>255</td>\n",
              "      <td>26</td>\n",
              "      <td>0.10</td>\n",
              "      <td>0.05</td>\n",
              "      <td>0.00</td>\n",
              "      <td>0.00</td>\n",
              "      <td>1.00</td>\n",
              "      <td>1.00</td>\n",
              "      <td>0.00</td>\n",
              "      <td>0.00</td>\n",
              "      <td>anomaly</td>\n",
              "    </tr>\n",
              "    <tr>\n",
              "      <th>3</th>\n",
              "      <td>0</td>\n",
              "      <td>tcp</td>\n",
              "      <td>http</td>\n",
              "      <td>SF</td>\n",
              "      <td>232</td>\n",
              "      <td>8153</td>\n",
              "      <td>0</td>\n",
              "      <td>0</td>\n",
              "      <td>0</td>\n",
              "      <td>0</td>\n",
              "      <td>0</td>\n",
              "      <td>1</td>\n",
              "      <td>0</td>\n",
              "      <td>0</td>\n",
              "      <td>0</td>\n",
              "      <td>0</td>\n",
              "      <td>0</td>\n",
              "      <td>0</td>\n",
              "      <td>0</td>\n",
              "      <td>0</td>\n",
              "      <td>0</td>\n",
              "      <td>0</td>\n",
              "      <td>5</td>\n",
              "      <td>5</td>\n",
              "      <td>0.2</td>\n",
              "      <td>0.2</td>\n",
              "      <td>0.0</td>\n",
              "      <td>0.0</td>\n",
              "      <td>1.00</td>\n",
              "      <td>0.00</td>\n",
              "      <td>0.00</td>\n",
              "      <td>30</td>\n",
              "      <td>255</td>\n",
              "      <td>1.00</td>\n",
              "      <td>0.00</td>\n",
              "      <td>0.03</td>\n",
              "      <td>0.04</td>\n",
              "      <td>0.03</td>\n",
              "      <td>0.01</td>\n",
              "      <td>0.00</td>\n",
              "      <td>0.01</td>\n",
              "      <td>normal</td>\n",
              "    </tr>\n",
              "    <tr>\n",
              "      <th>4</th>\n",
              "      <td>0</td>\n",
              "      <td>tcp</td>\n",
              "      <td>http</td>\n",
              "      <td>SF</td>\n",
              "      <td>199</td>\n",
              "      <td>420</td>\n",
              "      <td>0</td>\n",
              "      <td>0</td>\n",
              "      <td>0</td>\n",
              "      <td>0</td>\n",
              "      <td>0</td>\n",
              "      <td>1</td>\n",
              "      <td>0</td>\n",
              "      <td>0</td>\n",
              "      <td>0</td>\n",
              "      <td>0</td>\n",
              "      <td>0</td>\n",
              "      <td>0</td>\n",
              "      <td>0</td>\n",
              "      <td>0</td>\n",
              "      <td>0</td>\n",
              "      <td>0</td>\n",
              "      <td>30</td>\n",
              "      <td>32</td>\n",
              "      <td>0.0</td>\n",
              "      <td>0.0</td>\n",
              "      <td>0.0</td>\n",
              "      <td>0.0</td>\n",
              "      <td>1.00</td>\n",
              "      <td>0.00</td>\n",
              "      <td>0.09</td>\n",
              "      <td>255</td>\n",
              "      <td>255</td>\n",
              "      <td>1.00</td>\n",
              "      <td>0.00</td>\n",
              "      <td>0.00</td>\n",
              "      <td>0.00</td>\n",
              "      <td>0.00</td>\n",
              "      <td>0.00</td>\n",
              "      <td>0.00</td>\n",
              "      <td>0.00</td>\n",
              "      <td>normal</td>\n",
              "    </tr>\n",
              "  </tbody>\n",
              "</table>\n",
              "</div>"
            ],
            "text/plain": [
              "   duration protocol_type  ... dst_host_srv_rerror_rate   attack\n",
              "0         0           tcp  ...                     0.00   normal\n",
              "1         0           udp  ...                     0.00   normal\n",
              "2         0           tcp  ...                     0.00  anomaly\n",
              "3         0           tcp  ...                     0.01   normal\n",
              "4         0           tcp  ...                     0.00   normal\n",
              "\n",
              "[5 rows x 42 columns]"
            ]
          },
          "metadata": {},
          "execution_count": 46
        }
      ],
      "source": [
        "df.head() #change the \"class\" column's name into \"attack\""
      ]
    },
    {
      "cell_type": "code",
      "execution_count": null,
      "id": "cb8cb725",
      "metadata": {
        "colab": {
          "base_uri": "https://localhost:8080/"
        },
        "id": "cb8cb725",
        "outputId": "ef5c234b-8f63-4d2c-9d74-dcb3032a82f0"
      },
      "outputs": [
        {
          "output_type": "execute_result",
          "data": {
            "text/plain": [
              "(25192, 42)"
            ]
          },
          "metadata": {},
          "execution_count": 47
        }
      ],
      "source": [
        "df.shape"
      ]
    },
    {
      "cell_type": "markdown",
      "id": "9d28c92a",
      "metadata": {
        "id": "9d28c92a"
      },
      "source": [
        "# **Part 2: Exploratory Data Analysis (EDA)**"
      ]
    },
    {
      "cell_type": "code",
      "execution_count": null,
      "id": "6dad506b",
      "metadata": {
        "id": "6dad506b",
        "outputId": "ef9039fe-d0e7-407e-a3c7-27492beb3d56",
        "colab": {
          "base_uri": "https://localhost:8080/",
          "height": 1000
        }
      },
      "outputs": [
        {
          "output_type": "execute_result",
          "data": {
            "text/html": [
              "<div>\n",
              "<style scoped>\n",
              "    .dataframe tbody tr th:only-of-type {\n",
              "        vertical-align: middle;\n",
              "    }\n",
              "\n",
              "    .dataframe tbody tr th {\n",
              "        vertical-align: top;\n",
              "    }\n",
              "\n",
              "    .dataframe thead th {\n",
              "        text-align: right;\n",
              "    }\n",
              "</style>\n",
              "<table border=\"1\" class=\"dataframe\">\n",
              "  <thead>\n",
              "    <tr style=\"text-align: right;\">\n",
              "      <th></th>\n",
              "      <th>count</th>\n",
              "      <th>mean</th>\n",
              "      <th>std</th>\n",
              "      <th>min</th>\n",
              "      <th>25%</th>\n",
              "      <th>50%</th>\n",
              "      <th>75%</th>\n",
              "      <th>max</th>\n",
              "    </tr>\n",
              "  </thead>\n",
              "  <tbody>\n",
              "    <tr>\n",
              "      <th>duration</th>\n",
              "      <td>25192.0</td>\n",
              "      <td>305.054104</td>\n",
              "      <td>2.686556e+03</td>\n",
              "      <td>0.0</td>\n",
              "      <td>0.00</td>\n",
              "      <td>0.00</td>\n",
              "      <td>0.00</td>\n",
              "      <td>42862.0</td>\n",
              "    </tr>\n",
              "    <tr>\n",
              "      <th>src_bytes</th>\n",
              "      <td>25192.0</td>\n",
              "      <td>24330.628215</td>\n",
              "      <td>2.410805e+06</td>\n",
              "      <td>0.0</td>\n",
              "      <td>0.00</td>\n",
              "      <td>44.00</td>\n",
              "      <td>279.00</td>\n",
              "      <td>381709090.0</td>\n",
              "    </tr>\n",
              "    <tr>\n",
              "      <th>dst_bytes</th>\n",
              "      <td>25192.0</td>\n",
              "      <td>3491.847174</td>\n",
              "      <td>8.883072e+04</td>\n",
              "      <td>0.0</td>\n",
              "      <td>0.00</td>\n",
              "      <td>0.00</td>\n",
              "      <td>530.25</td>\n",
              "      <td>5151385.0</td>\n",
              "    </tr>\n",
              "    <tr>\n",
              "      <th>land</th>\n",
              "      <td>25192.0</td>\n",
              "      <td>0.000079</td>\n",
              "      <td>8.909946e-03</td>\n",
              "      <td>0.0</td>\n",
              "      <td>0.00</td>\n",
              "      <td>0.00</td>\n",
              "      <td>0.00</td>\n",
              "      <td>1.0</td>\n",
              "    </tr>\n",
              "    <tr>\n",
              "      <th>wrong_fragment</th>\n",
              "      <td>25192.0</td>\n",
              "      <td>0.023738</td>\n",
              "      <td>2.602208e-01</td>\n",
              "      <td>0.0</td>\n",
              "      <td>0.00</td>\n",
              "      <td>0.00</td>\n",
              "      <td>0.00</td>\n",
              "      <td>3.0</td>\n",
              "    </tr>\n",
              "    <tr>\n",
              "      <th>urgent</th>\n",
              "      <td>25192.0</td>\n",
              "      <td>0.000040</td>\n",
              "      <td>6.300408e-03</td>\n",
              "      <td>0.0</td>\n",
              "      <td>0.00</td>\n",
              "      <td>0.00</td>\n",
              "      <td>0.00</td>\n",
              "      <td>1.0</td>\n",
              "    </tr>\n",
              "    <tr>\n",
              "      <th>hot</th>\n",
              "      <td>25192.0</td>\n",
              "      <td>0.198039</td>\n",
              "      <td>2.154202e+00</td>\n",
              "      <td>0.0</td>\n",
              "      <td>0.00</td>\n",
              "      <td>0.00</td>\n",
              "      <td>0.00</td>\n",
              "      <td>77.0</td>\n",
              "    </tr>\n",
              "    <tr>\n",
              "      <th>num_failed_logins</th>\n",
              "      <td>25192.0</td>\n",
              "      <td>0.001191</td>\n",
              "      <td>4.541818e-02</td>\n",
              "      <td>0.0</td>\n",
              "      <td>0.00</td>\n",
              "      <td>0.00</td>\n",
              "      <td>0.00</td>\n",
              "      <td>4.0</td>\n",
              "    </tr>\n",
              "    <tr>\n",
              "      <th>logged_in</th>\n",
              "      <td>25192.0</td>\n",
              "      <td>0.394768</td>\n",
              "      <td>4.888105e-01</td>\n",
              "      <td>0.0</td>\n",
              "      <td>0.00</td>\n",
              "      <td>0.00</td>\n",
              "      <td>1.00</td>\n",
              "      <td>1.0</td>\n",
              "    </tr>\n",
              "    <tr>\n",
              "      <th>num_compromised</th>\n",
              "      <td>25192.0</td>\n",
              "      <td>0.227850</td>\n",
              "      <td>1.041735e+01</td>\n",
              "      <td>0.0</td>\n",
              "      <td>0.00</td>\n",
              "      <td>0.00</td>\n",
              "      <td>0.00</td>\n",
              "      <td>884.0</td>\n",
              "    </tr>\n",
              "    <tr>\n",
              "      <th>root_shell</th>\n",
              "      <td>25192.0</td>\n",
              "      <td>0.001548</td>\n",
              "      <td>3.931635e-02</td>\n",
              "      <td>0.0</td>\n",
              "      <td>0.00</td>\n",
              "      <td>0.00</td>\n",
              "      <td>0.00</td>\n",
              "      <td>1.0</td>\n",
              "    </tr>\n",
              "    <tr>\n",
              "      <th>su_attempted</th>\n",
              "      <td>25192.0</td>\n",
              "      <td>0.001350</td>\n",
              "      <td>4.878505e-02</td>\n",
              "      <td>0.0</td>\n",
              "      <td>0.00</td>\n",
              "      <td>0.00</td>\n",
              "      <td>0.00</td>\n",
              "      <td>2.0</td>\n",
              "    </tr>\n",
              "    <tr>\n",
              "      <th>num_root</th>\n",
              "      <td>25192.0</td>\n",
              "      <td>0.249841</td>\n",
              "      <td>1.150084e+01</td>\n",
              "      <td>0.0</td>\n",
              "      <td>0.00</td>\n",
              "      <td>0.00</td>\n",
              "      <td>0.00</td>\n",
              "      <td>975.0</td>\n",
              "    </tr>\n",
              "    <tr>\n",
              "      <th>num_file_creations</th>\n",
              "      <td>25192.0</td>\n",
              "      <td>0.014727</td>\n",
              "      <td>5.296023e-01</td>\n",
              "      <td>0.0</td>\n",
              "      <td>0.00</td>\n",
              "      <td>0.00</td>\n",
              "      <td>0.00</td>\n",
              "      <td>40.0</td>\n",
              "    </tr>\n",
              "    <tr>\n",
              "      <th>num_shells</th>\n",
              "      <td>25192.0</td>\n",
              "      <td>0.000357</td>\n",
              "      <td>1.889822e-02</td>\n",
              "      <td>0.0</td>\n",
              "      <td>0.00</td>\n",
              "      <td>0.00</td>\n",
              "      <td>0.00</td>\n",
              "      <td>1.0</td>\n",
              "    </tr>\n",
              "    <tr>\n",
              "      <th>num_access_files</th>\n",
              "      <td>25192.0</td>\n",
              "      <td>0.004327</td>\n",
              "      <td>9.852398e-02</td>\n",
              "      <td>0.0</td>\n",
              "      <td>0.00</td>\n",
              "      <td>0.00</td>\n",
              "      <td>0.00</td>\n",
              "      <td>8.0</td>\n",
              "    </tr>\n",
              "    <tr>\n",
              "      <th>num_outbound_cmds</th>\n",
              "      <td>25192.0</td>\n",
              "      <td>0.000000</td>\n",
              "      <td>0.000000e+00</td>\n",
              "      <td>0.0</td>\n",
              "      <td>0.00</td>\n",
              "      <td>0.00</td>\n",
              "      <td>0.00</td>\n",
              "      <td>0.0</td>\n",
              "    </tr>\n",
              "    <tr>\n",
              "      <th>is_host_login</th>\n",
              "      <td>25192.0</td>\n",
              "      <td>0.000000</td>\n",
              "      <td>0.000000e+00</td>\n",
              "      <td>0.0</td>\n",
              "      <td>0.00</td>\n",
              "      <td>0.00</td>\n",
              "      <td>0.00</td>\n",
              "      <td>0.0</td>\n",
              "    </tr>\n",
              "    <tr>\n",
              "      <th>is_guest_login</th>\n",
              "      <td>25192.0</td>\n",
              "      <td>0.009130</td>\n",
              "      <td>9.511512e-02</td>\n",
              "      <td>0.0</td>\n",
              "      <td>0.00</td>\n",
              "      <td>0.00</td>\n",
              "      <td>0.00</td>\n",
              "      <td>1.0</td>\n",
              "    </tr>\n",
              "    <tr>\n",
              "      <th>count</th>\n",
              "      <td>25192.0</td>\n",
              "      <td>84.591180</td>\n",
              "      <td>1.146735e+02</td>\n",
              "      <td>1.0</td>\n",
              "      <td>2.00</td>\n",
              "      <td>14.00</td>\n",
              "      <td>144.00</td>\n",
              "      <td>511.0</td>\n",
              "    </tr>\n",
              "    <tr>\n",
              "      <th>srv_count</th>\n",
              "      <td>25192.0</td>\n",
              "      <td>27.698754</td>\n",
              "      <td>7.246824e+01</td>\n",
              "      <td>1.0</td>\n",
              "      <td>2.00</td>\n",
              "      <td>8.00</td>\n",
              "      <td>18.00</td>\n",
              "      <td>511.0</td>\n",
              "    </tr>\n",
              "    <tr>\n",
              "      <th>serror_rate</th>\n",
              "      <td>25192.0</td>\n",
              "      <td>0.286338</td>\n",
              "      <td>4.473123e-01</td>\n",
              "      <td>0.0</td>\n",
              "      <td>0.00</td>\n",
              "      <td>0.00</td>\n",
              "      <td>1.00</td>\n",
              "      <td>1.0</td>\n",
              "    </tr>\n",
              "    <tr>\n",
              "      <th>srv_serror_rate</th>\n",
              "      <td>25192.0</td>\n",
              "      <td>0.283762</td>\n",
              "      <td>4.475989e-01</td>\n",
              "      <td>0.0</td>\n",
              "      <td>0.00</td>\n",
              "      <td>0.00</td>\n",
              "      <td>1.00</td>\n",
              "      <td>1.0</td>\n",
              "    </tr>\n",
              "    <tr>\n",
              "      <th>rerror_rate</th>\n",
              "      <td>25192.0</td>\n",
              "      <td>0.118630</td>\n",
              "      <td>3.187455e-01</td>\n",
              "      <td>0.0</td>\n",
              "      <td>0.00</td>\n",
              "      <td>0.00</td>\n",
              "      <td>0.00</td>\n",
              "      <td>1.0</td>\n",
              "    </tr>\n",
              "    <tr>\n",
              "      <th>srv_rerror_rate</th>\n",
              "      <td>25192.0</td>\n",
              "      <td>0.120260</td>\n",
              "      <td>3.223354e-01</td>\n",
              "      <td>0.0</td>\n",
              "      <td>0.00</td>\n",
              "      <td>0.00</td>\n",
              "      <td>0.00</td>\n",
              "      <td>1.0</td>\n",
              "    </tr>\n",
              "    <tr>\n",
              "      <th>same_srv_rate</th>\n",
              "      <td>25192.0</td>\n",
              "      <td>0.660559</td>\n",
              "      <td>4.396374e-01</td>\n",
              "      <td>0.0</td>\n",
              "      <td>0.09</td>\n",
              "      <td>1.00</td>\n",
              "      <td>1.00</td>\n",
              "      <td>1.0</td>\n",
              "    </tr>\n",
              "    <tr>\n",
              "      <th>diff_srv_rate</th>\n",
              "      <td>25192.0</td>\n",
              "      <td>0.062363</td>\n",
              "      <td>1.785500e-01</td>\n",
              "      <td>0.0</td>\n",
              "      <td>0.00</td>\n",
              "      <td>0.00</td>\n",
              "      <td>0.06</td>\n",
              "      <td>1.0</td>\n",
              "    </tr>\n",
              "    <tr>\n",
              "      <th>srv_diff_host_rate</th>\n",
              "      <td>25192.0</td>\n",
              "      <td>0.095931</td>\n",
              "      <td>2.565828e-01</td>\n",
              "      <td>0.0</td>\n",
              "      <td>0.00</td>\n",
              "      <td>0.00</td>\n",
              "      <td>0.00</td>\n",
              "      <td>1.0</td>\n",
              "    </tr>\n",
              "    <tr>\n",
              "      <th>dst_host_count</th>\n",
              "      <td>25192.0</td>\n",
              "      <td>182.532074</td>\n",
              "      <td>9.899390e+01</td>\n",
              "      <td>0.0</td>\n",
              "      <td>84.00</td>\n",
              "      <td>255.00</td>\n",
              "      <td>255.00</td>\n",
              "      <td>255.0</td>\n",
              "    </tr>\n",
              "    <tr>\n",
              "      <th>dst_host_srv_count</th>\n",
              "      <td>25192.0</td>\n",
              "      <td>115.063036</td>\n",
              "      <td>1.106469e+02</td>\n",
              "      <td>0.0</td>\n",
              "      <td>10.00</td>\n",
              "      <td>61.00</td>\n",
              "      <td>255.00</td>\n",
              "      <td>255.0</td>\n",
              "    </tr>\n",
              "    <tr>\n",
              "      <th>dst_host_same_srv_rate</th>\n",
              "      <td>25192.0</td>\n",
              "      <td>0.519791</td>\n",
              "      <td>4.489439e-01</td>\n",
              "      <td>0.0</td>\n",
              "      <td>0.05</td>\n",
              "      <td>0.51</td>\n",
              "      <td>1.00</td>\n",
              "      <td>1.0</td>\n",
              "    </tr>\n",
              "    <tr>\n",
              "      <th>dst_host_diff_srv_rate</th>\n",
              "      <td>25192.0</td>\n",
              "      <td>0.082539</td>\n",
              "      <td>1.871911e-01</td>\n",
              "      <td>0.0</td>\n",
              "      <td>0.00</td>\n",
              "      <td>0.03</td>\n",
              "      <td>0.07</td>\n",
              "      <td>1.0</td>\n",
              "    </tr>\n",
              "    <tr>\n",
              "      <th>dst_host_same_src_port_rate</th>\n",
              "      <td>25192.0</td>\n",
              "      <td>0.147453</td>\n",
              "      <td>3.083666e-01</td>\n",
              "      <td>0.0</td>\n",
              "      <td>0.00</td>\n",
              "      <td>0.00</td>\n",
              "      <td>0.06</td>\n",
              "      <td>1.0</td>\n",
              "    </tr>\n",
              "    <tr>\n",
              "      <th>dst_host_srv_diff_host_rate</th>\n",
              "      <td>25192.0</td>\n",
              "      <td>0.031844</td>\n",
              "      <td>1.105750e-01</td>\n",
              "      <td>0.0</td>\n",
              "      <td>0.00</td>\n",
              "      <td>0.00</td>\n",
              "      <td>0.02</td>\n",
              "      <td>1.0</td>\n",
              "    </tr>\n",
              "    <tr>\n",
              "      <th>dst_host_serror_rate</th>\n",
              "      <td>25192.0</td>\n",
              "      <td>0.285800</td>\n",
              "      <td>4.453165e-01</td>\n",
              "      <td>0.0</td>\n",
              "      <td>0.00</td>\n",
              "      <td>0.00</td>\n",
              "      <td>1.00</td>\n",
              "      <td>1.0</td>\n",
              "    </tr>\n",
              "    <tr>\n",
              "      <th>dst_host_srv_serror_rate</th>\n",
              "      <td>25192.0</td>\n",
              "      <td>0.279846</td>\n",
              "      <td>4.460753e-01</td>\n",
              "      <td>0.0</td>\n",
              "      <td>0.00</td>\n",
              "      <td>0.00</td>\n",
              "      <td>1.00</td>\n",
              "      <td>1.0</td>\n",
              "    </tr>\n",
              "    <tr>\n",
              "      <th>dst_host_rerror_rate</th>\n",
              "      <td>25192.0</td>\n",
              "      <td>0.117800</td>\n",
              "      <td>3.058692e-01</td>\n",
              "      <td>0.0</td>\n",
              "      <td>0.00</td>\n",
              "      <td>0.00</td>\n",
              "      <td>0.00</td>\n",
              "      <td>1.0</td>\n",
              "    </tr>\n",
              "    <tr>\n",
              "      <th>dst_host_srv_rerror_rate</th>\n",
              "      <td>25192.0</td>\n",
              "      <td>0.118769</td>\n",
              "      <td>3.173335e-01</td>\n",
              "      <td>0.0</td>\n",
              "      <td>0.00</td>\n",
              "      <td>0.00</td>\n",
              "      <td>0.00</td>\n",
              "      <td>1.0</td>\n",
              "    </tr>\n",
              "  </tbody>\n",
              "</table>\n",
              "</div>"
            ],
            "text/plain": [
              "                               count          mean  ...     75%          max\n",
              "duration                     25192.0    305.054104  ...    0.00      42862.0\n",
              "src_bytes                    25192.0  24330.628215  ...  279.00  381709090.0\n",
              "dst_bytes                    25192.0   3491.847174  ...  530.25    5151385.0\n",
              "land                         25192.0      0.000079  ...    0.00          1.0\n",
              "wrong_fragment               25192.0      0.023738  ...    0.00          3.0\n",
              "urgent                       25192.0      0.000040  ...    0.00          1.0\n",
              "hot                          25192.0      0.198039  ...    0.00         77.0\n",
              "num_failed_logins            25192.0      0.001191  ...    0.00          4.0\n",
              "logged_in                    25192.0      0.394768  ...    1.00          1.0\n",
              "num_compromised              25192.0      0.227850  ...    0.00        884.0\n",
              "root_shell                   25192.0      0.001548  ...    0.00          1.0\n",
              "su_attempted                 25192.0      0.001350  ...    0.00          2.0\n",
              "num_root                     25192.0      0.249841  ...    0.00        975.0\n",
              "num_file_creations           25192.0      0.014727  ...    0.00         40.0\n",
              "num_shells                   25192.0      0.000357  ...    0.00          1.0\n",
              "num_access_files             25192.0      0.004327  ...    0.00          8.0\n",
              "num_outbound_cmds            25192.0      0.000000  ...    0.00          0.0\n",
              "is_host_login                25192.0      0.000000  ...    0.00          0.0\n",
              "is_guest_login               25192.0      0.009130  ...    0.00          1.0\n",
              "count                        25192.0     84.591180  ...  144.00        511.0\n",
              "srv_count                    25192.0     27.698754  ...   18.00        511.0\n",
              "serror_rate                  25192.0      0.286338  ...    1.00          1.0\n",
              "srv_serror_rate              25192.0      0.283762  ...    1.00          1.0\n",
              "rerror_rate                  25192.0      0.118630  ...    0.00          1.0\n",
              "srv_rerror_rate              25192.0      0.120260  ...    0.00          1.0\n",
              "same_srv_rate                25192.0      0.660559  ...    1.00          1.0\n",
              "diff_srv_rate                25192.0      0.062363  ...    0.06          1.0\n",
              "srv_diff_host_rate           25192.0      0.095931  ...    0.00          1.0\n",
              "dst_host_count               25192.0    182.532074  ...  255.00        255.0\n",
              "dst_host_srv_count           25192.0    115.063036  ...  255.00        255.0\n",
              "dst_host_same_srv_rate       25192.0      0.519791  ...    1.00          1.0\n",
              "dst_host_diff_srv_rate       25192.0      0.082539  ...    0.07          1.0\n",
              "dst_host_same_src_port_rate  25192.0      0.147453  ...    0.06          1.0\n",
              "dst_host_srv_diff_host_rate  25192.0      0.031844  ...    0.02          1.0\n",
              "dst_host_serror_rate         25192.0      0.285800  ...    1.00          1.0\n",
              "dst_host_srv_serror_rate     25192.0      0.279846  ...    1.00          1.0\n",
              "dst_host_rerror_rate         25192.0      0.117800  ...    0.00          1.0\n",
              "dst_host_srv_rerror_rate     25192.0      0.118769  ...    0.00          1.0\n",
              "\n",
              "[38 rows x 8 columns]"
            ]
          },
          "metadata": {},
          "execution_count": 48
        }
      ],
      "source": [
        "df.describe().T#statistical information"
      ]
    },
    {
      "cell_type": "markdown",
      "id": "586f1c2c",
      "metadata": {
        "id": "586f1c2c"
      },
      "source": [
        " ## 1 what is the most Protocols used?"
      ]
    },
    {
      "cell_type": "code",
      "execution_count": null,
      "id": "72ca9e4e",
      "metadata": {
        "id": "72ca9e4e",
        "outputId": "a54b5dd2-13a2-43e1-e023-1d1befd342f0",
        "scrolled": true,
        "colab": {
          "base_uri": "https://localhost:8080/",
          "height": 280
        }
      },
      "outputs": [
        {
          "output_type": "display_data",
          "data": {
            "image/png": "[encoded data removed]",
            "text/plain": [
              "<Figure size 432x288 with 1 Axes>"
            ]
          },
          "metadata": {
            "needs_background": "light"
          }
        }
      ],
      "source": [
        "sns.countplot(x=\"protocol_type\", data=df)\n",
        "plt.show()"
      ]
    },
    {
      "cell_type": "markdown",
      "id": "4ab5db1e",
      "metadata": {
        "id": "4ab5db1e"
      },
      "source": [
        "## q2 the attack's type chart"
      ]
    },
    {
      "cell_type": "code",
      "execution_count": null,
      "id": "22fcb475",
      "metadata": {
        "id": "22fcb475",
        "outputId": "bc179deb-3e2a-4bc5-9816-d630ccc2191d",
        "colab": {
          "base_uri": "https://localhost:8080/",
          "height": 295
        }
      },
      "outputs": [
        {
          "output_type": "display_data",
          "data": {
            "image/png": "[encoded data removed]",
            "text/plain": [
              "<Figure size 432x288 with 1 Axes>"
            ]
          },
          "metadata": {
            "needs_background": "light"
          }
        }
      ],
      "source": [
        "class_ = sns.countplot(df['attack'], palette='YlGnBu');\n",
        "class_.set_title(\"Number of  Activity\");"
      ]
    },
    {
      "cell_type": "code",
      "execution_count": null,
      "id": "ca1e1883",
      "metadata": {
        "id": "ca1e1883"
      },
      "outputs": [],
      "source": [
        "## 3 flag distribution"
      ]
    },
    {
      "cell_type": "code",
      "execution_count": null,
      "id": "ca6f3487",
      "metadata": {
        "id": "ca6f3487",
        "outputId": "c1d1fde5-bbe6-4134-b868-31c01e7ef1d4",
        "colab": {
          "base_uri": "https://localhost:8080/",
          "height": 502
        }
      },
      "outputs": [
        {
          "output_type": "display_data",
          "data": {
            "image/png": "[encoded data removed]",
            "text/plain": [
              "<Figure size 864x576 with 1 Axes>"
            ]
          },
          "metadata": {
            "needs_background": "light"
          }
        }
      ],
      "source": [
        "plt.figure(figsize=(12, 8))\n",
        "plt.style.use('ggplot')\n",
        "sns.set(style=\"darkgrid\")\n",
        "sns.countplot(x=\"flag\",\n",
        "              data=df,\n",
        "              palette=\"Set3\",\n",
        "              edgecolor=sns.color_palette(\"dark\", 5))\n",
        "plt.show()"
      ]
    },
    {
      "cell_type": "code",
      "source": [
        "plt.figure(figsize=(12,16))\n",
        "sns.countplot(y=\"service\", data=df)\n",
        "plt.show() \n"
      ],
      "metadata": {
        "colab": {
          "base_uri": "https://localhost:8080/"
        },
        "id": "e2oMH1qM5lIK",
        "outputId": "5bfe032c-6e02-4616-c6ae-29f9f52cdc95"
      },
      "id": "e2oMH1qM5lIK",
      "execution_count": null,
      "outputs": [
        {
          "output_type": "display_data",
          "data": {
            "image/png": "[encoded data removed]",
            "text/plain": [
              "<Figure size 864x1152 with 1 Axes>"
            ]
          },
          "metadata": {
            "needs_background": "light"
          }
        }
      ]
    },
    {
      "cell_type": "code",
      "execution_count": 13,
      "id": "5b4c98a5",
      "metadata": {
        "id": "5b4c98a5"
      },
      "outputs": [],
      "source": [
        "le = preprocessing.LabelEncoder()\n",
        "df['attack']= le.fit_transform(df.attack.values)"
      ]
    },
    {
      "cell_type": "code",
      "execution_count": 14,
      "id": "703d07d8",
      "metadata": {
        "colab": {
          "base_uri": "https://localhost:8080/",
          "height": 142
        },
        "id": "703d07d8",
        "outputId": "cd86eb60-98f9-4c87-e120-f29d9a1df605"
      },
      "outputs": [
        {
          "output_type": "execute_result",
          "data": {
            "text/html": [
              "\n",
              "  <div id=\"df-0292a9bb-a511-4bf8-aab9-1157bda08987\">\n",
              "    <div class=\"colab-df-container\">\n",
              "      <div>\n",
              "<style scoped>\n",
              "    .dataframe tbody tr th:only-of-type {\n",
              "        vertical-align: middle;\n",
              "    }\n",
              "\n",
              "    .dataframe tbody tr th {\n",
              "        vertical-align: top;\n",
              "    }\n",
              "\n",
              "    .dataframe thead th {\n",
              "        text-align: right;\n",
              "    }\n",
              "</style>\n",
              "<table border=\"1\" class=\"dataframe\">\n",
              "  <thead>\n",
              "    <tr style=\"text-align: right;\">\n",
              "      <th></th>\n",
              "      <th>wrong_fragment</th>\n",
              "    </tr>\n",
              "    <tr>\n",
              "      <th>attack</th>\n",
              "      <th></th>\n",
              "    </tr>\n",
              "  </thead>\n",
              "  <tbody>\n",
              "    <tr>\n",
              "      <th>0</th>\n",
              "      <td>598</td>\n",
              "    </tr>\n",
              "    <tr>\n",
              "      <th>1</th>\n",
              "      <td>0</td>\n",
              "    </tr>\n",
              "  </tbody>\n",
              "</table>\n",
              "</div>\n",
              "      <button class=\"colab-df-convert\" onclick=\"convertToInteractive('df-0292a9bb-a511-4bf8-aab9-1157bda08987')\"\n",
              "              title=\"Convert this dataframe to an interactive table.\"\n",
              "              style=\"display:none;\">\n",
              "        \n",
              "  <svg xmlns=\"http://www.w3.org/2000/svg\" height=\"24px\"viewBox=\"0 0 24 24\"\n",
              "       width=\"24px\">\n",
              "    <path d=\"M0 0h24v24H0V0z\" fill=\"none\"/>\n",
              "    <path d=\"M18.56 5.44l.94 2.06.94-2.06 2.06-.94-2.06-.94-.94-2.06-.94 2.06-2.06.94zm-11 1L8.5 8.5l.94-2.06 2.06-.94-2.06-.94L8.5 2.5l-.94 2.06-2.06.94zm10 10l.94 2.06.94-2.06 2.06-.94-2.06-.94-.94-2.06-.94 2.06-2.06.94z\"/><path d=\"M17.41 7.96l-1.37-1.37c-.4-.4-.92-.59-1.43-.59-.52 0-1.04.2-1.43.59L10.3 9.45l-7.72 7.72c-.78.78-.78 2.05 0 2.83L4 21.41c.39.39.9.59 1.41.59.51 0 1.02-.2 1.41-.59l7.78-7.78 2.81-2.81c.8-.78.8-2.07 0-2.86zM5.41 20L4 18.59l7.72-7.72 1.47 1.35L5.41 20z\"/>\n",
              "  </svg>\n",
              "      </button>\n",
              "      \n",
              "  <style>\n",
              "    .colab-df-container {\n",
              "      display:flex;\n",
              "      flex-wrap:wrap;\n",
              "      gap: 12px;\n",
              "    }\n",
              "\n",
              "    .colab-df-convert {\n",
              "      background-color: #E8F0FE;\n",
              "      border: none;\n",
              "      border-radius: 50%;\n",
              "      cursor: pointer;\n",
              "      display: none;\n",
              "      fill: #1967D2;\n",
              "      height: 32px;\n",
              "      padding: 0 0 0 0;\n",
              "      width: 32px;\n",
              "    }\n",
              "\n",
              "    .colab-df-convert:hover {\n",
              "      background-color: #E2EBFA;\n",
              "      box-shadow: 0px 1px 2px rgba(60, 64, 67, 0.3), 0px 1px 3px 1px rgba(60, 64, 67, 0.15);\n",
              "      fill: #174EA6;\n",
              "    }\n",
              "\n",
              "    [theme=dark] .colab-df-convert {\n",
              "      background-color: #3B4455;\n",
              "      fill: #D2E3FC;\n",
              "    }\n",
              "\n",
              "    [theme=dark] .colab-df-convert:hover {\n",
              "      background-color: #434B5C;\n",
              "      box-shadow: 0px 1px 3px 1px rgba(0, 0, 0, 0.15);\n",
              "      filter: drop-shadow(0px 1px 2px rgba(0, 0, 0, 0.3));\n",
              "      fill: #FFFFFF;\n",
              "    }\n",
              "  </style>\n",
              "\n",
              "      <script>\n",
              "        const buttonEl =\n",
              "          document.querySelector('#df-0292a9bb-a511-4bf8-aab9-1157bda08987 button.colab-df-convert');\n",
              "        buttonEl.style.display =\n",
              "          google.colab.kernel.accessAllowed ? 'block' : 'none';\n",
              "\n",
              "        async function convertToInteractive(key) {\n",
              "          const element = document.querySelector('#df-0292a9bb-a511-4bf8-aab9-1157bda08987');\n",
              "          const dataTable =\n",
              "            await google.colab.kernel.invokeFunction('convertToInteractive',\n",
              "                                                     [key], {});\n",
              "          if (!dataTable) return;\n",
              "\n",
              "          const docLinkHtml = 'Like what you see? Visit the ' +\n",
              "            '<a target=\"_blank\" href=https://colab.research.google.com/notebooks/data_table.ipynb>data table notebook</a>'\n",
              "            + ' to learn more about interactive tables.';\n",
              "          element.innerHTML = '';\n",
              "          dataTable['output_type'] = 'display_data';\n",
              "          await google.colab.output.renderOutput(dataTable, element);\n",
              "          const docLink = document.createElement('div');\n",
              "          docLink.innerHTML = docLinkHtml;\n",
              "          element.appendChild(docLink);\n",
              "        }\n",
              "      </script>\n",
              "    </div>\n",
              "  </div>\n",
              "  "
            ],
            "text/plain": [
              "        wrong_fragment\n",
              "attack                \n",
              "0                  598\n",
              "1                    0"
            ]
          },
          "metadata": {},
          "execution_count": 14
        }
      ],
      "source": [
        "# 4 Does wrong fragment column affects the attack?\n",
        "\n",
        "a=df.groupby(['attack'])[['wrong_fragment']].sum().sort_values('wrong_fragment', ascending=False)\n",
        "a\n"
      ]
    },
    {
      "cell_type": "code",
      "source": [
        "b=df.groupby(['service'])[['attack']].sum().sort_values('attack', ascending=False)\n",
        "b\n"
      ],
      "metadata": {
        "colab": {
          "base_uri": "https://localhost:8080/",
          "height": 450
        },
        "id": "tAF0Ix16J8Og",
        "outputId": "bc73cd99-9777-47a0-fe64-a2ea49a22554"
      },
      "id": "tAF0Ix16J8Og",
      "execution_count": 15,
      "outputs": [
        {
          "output_type": "execute_result",
          "data": {
            "text/html": [
              "\n",
              "  <div id=\"df-c395854a-168f-4a54-84cb-797526db6960\">\n",
              "    <div class=\"colab-df-container\">\n",
              "      <div>\n",
              "<style scoped>\n",
              "    .dataframe tbody tr th:only-of-type {\n",
              "        vertical-align: middle;\n",
              "    }\n",
              "\n",
              "    .dataframe tbody tr th {\n",
              "        vertical-align: top;\n",
              "    }\n",
              "\n",
              "    .dataframe thead th {\n",
              "        text-align: right;\n",
              "    }\n",
              "</style>\n",
              "<table border=\"1\" class=\"dataframe\">\n",
              "  <thead>\n",
              "    <tr style=\"text-align: right;\">\n",
              "      <th></th>\n",
              "      <th>attack</th>\n",
              "    </tr>\n",
              "    <tr>\n",
              "      <th>service</th>\n",
              "      <th></th>\n",
              "    </tr>\n",
              "  </thead>\n",
              "  <tbody>\n",
              "    <tr>\n",
              "      <th>http</th>\n",
              "      <td>7564</td>\n",
              "    </tr>\n",
              "    <tr>\n",
              "      <th>domain_u</th>\n",
              "      <td>1817</td>\n",
              "    </tr>\n",
              "    <tr>\n",
              "      <th>smtp</th>\n",
              "      <td>1390</td>\n",
              "    </tr>\n",
              "    <tr>\n",
              "      <th>ftp_data</th>\n",
              "      <td>1001</td>\n",
              "    </tr>\n",
              "    <tr>\n",
              "      <th>other</th>\n",
              "      <td>519</td>\n",
              "    </tr>\n",
              "    <tr>\n",
              "      <th>...</th>\n",
              "      <td>...</td>\n",
              "    </tr>\n",
              "    <tr>\n",
              "      <th>login</th>\n",
              "      <td>0</td>\n",
              "    </tr>\n",
              "    <tr>\n",
              "      <th>mtp</th>\n",
              "      <td>0</td>\n",
              "    </tr>\n",
              "    <tr>\n",
              "      <th>netbios_dgm</th>\n",
              "      <td>0</td>\n",
              "    </tr>\n",
              "    <tr>\n",
              "      <th>netbios_ns</th>\n",
              "      <td>0</td>\n",
              "    </tr>\n",
              "    <tr>\n",
              "      <th>whois</th>\n",
              "      <td>0</td>\n",
              "    </tr>\n",
              "  </tbody>\n",
              "</table>\n",
              "<p>66 rows × 1 columns</p>\n",
              "</div>\n",
              "      <button class=\"colab-df-convert\" onclick=\"convertToInteractive('df-c395854a-168f-4a54-84cb-797526db6960')\"\n",
              "              title=\"Convert this dataframe to an interactive table.\"\n",
              "              style=\"display:none;\">\n",
              "        \n",
              "  <svg xmlns=\"http://www.w3.org/2000/svg\" height=\"24px\"viewBox=\"0 0 24 24\"\n",
              "       width=\"24px\">\n",
              "    <path d=\"M0 0h24v24H0V0z\" fill=\"none\"/>\n",
              "    <path d=\"M18.56 5.44l.94 2.06.94-2.06 2.06-.94-2.06-.94-.94-2.06-.94 2.06-2.06.94zm-11 1L8.5 8.5l.94-2.06 2.06-.94-2.06-.94L8.5 2.5l-.94 2.06-2.06.94zm10 10l.94 2.06.94-2.06 2.06-.94-2.06-.94-.94-2.06-.94 2.06-2.06.94z\"/><path d=\"M17.41 7.96l-1.37-1.37c-.4-.4-.92-.59-1.43-.59-.52 0-1.04.2-1.43.59L10.3 9.45l-7.72 7.72c-.78.78-.78 2.05 0 2.83L4 21.41c.39.39.9.59 1.41.59.51 0 1.02-.2 1.41-.59l7.78-7.78 2.81-2.81c.8-.78.8-2.07 0-2.86zM5.41 20L4 18.59l7.72-7.72 1.47 1.35L5.41 20z\"/>\n",
              "  </svg>\n",
              "      </button>\n",
              "      \n",
              "  <style>\n",
              "    .colab-df-container {\n",
              "      display:flex;\n",
              "      flex-wrap:wrap;\n",
              "      gap: 12px;\n",
              "    }\n",
              "\n",
              "    .colab-df-convert {\n",
              "      background-color: #E8F0FE;\n",
              "      border: none;\n",
              "      border-radius: 50%;\n",
              "      cursor: pointer;\n",
              "      display: none;\n",
              "      fill: #1967D2;\n",
              "      height: 32px;\n",
              "      padding: 0 0 0 0;\n",
              "      width: 32px;\n",
              "    }\n",
              "\n",
              "    .colab-df-convert:hover {\n",
              "      background-color: #E2EBFA;\n",
              "      box-shadow: 0px 1px 2px rgba(60, 64, 67, 0.3), 0px 1px 3px 1px rgba(60, 64, 67, 0.15);\n",
              "      fill: #174EA6;\n",
              "    }\n",
              "\n",
              "    [theme=dark] .colab-df-convert {\n",
              "      background-color: #3B4455;\n",
              "      fill: #D2E3FC;\n",
              "    }\n",
              "\n",
              "    [theme=dark] .colab-df-convert:hover {\n",
              "      background-color: #434B5C;\n",
              "      box-shadow: 0px 1px 3px 1px rgba(0, 0, 0, 0.15);\n",
              "      filter: drop-shadow(0px 1px 2px rgba(0, 0, 0, 0.3));\n",
              "      fill: #FFFFFF;\n",
              "    }\n",
              "  </style>\n",
              "\n",
              "      <script>\n",
              "        const buttonEl =\n",
              "          document.querySelector('#df-c395854a-168f-4a54-84cb-797526db6960 button.colab-df-convert');\n",
              "        buttonEl.style.display =\n",
              "          google.colab.kernel.accessAllowed ? 'block' : 'none';\n",
              "\n",
              "        async function convertToInteractive(key) {\n",
              "          const element = document.querySelector('#df-c395854a-168f-4a54-84cb-797526db6960');\n",
              "          const dataTable =\n",
              "            await google.colab.kernel.invokeFunction('convertToInteractive',\n",
              "                                                     [key], {});\n",
              "          if (!dataTable) return;\n",
              "\n",
              "          const docLinkHtml = 'Like what you see? Visit the ' +\n",
              "            '<a target=\"_blank\" href=https://colab.research.google.com/notebooks/data_table.ipynb>data table notebook</a>'\n",
              "            + ' to learn more about interactive tables.';\n",
              "          element.innerHTML = '';\n",
              "          dataTable['output_type'] = 'display_data';\n",
              "          await google.colab.output.renderOutput(dataTable, element);\n",
              "          const docLink = document.createElement('div');\n",
              "          docLink.innerHTML = docLinkHtml;\n",
              "          element.appendChild(docLink);\n",
              "        }\n",
              "      </script>\n",
              "    </div>\n",
              "  </div>\n",
              "  "
            ],
            "text/plain": [
              "             attack\n",
              "service            \n",
              "http           7564\n",
              "domain_u       1817\n",
              "smtp           1390\n",
              "ftp_data       1001\n",
              "other           519\n",
              "...             ...\n",
              "login             0\n",
              "mtp               0\n",
              "netbios_dgm       0\n",
              "netbios_ns        0\n",
              "whois             0\n",
              "\n",
              "[66 rows x 1 columns]"
            ]
          },
          "metadata": {},
          "execution_count": 15
        }
      ]
    },
    {
      "cell_type": "code",
      "execution_count": 16,
      "id": "35fdc61b",
      "metadata": {
        "id": "35fdc61b",
        "outputId": "cc028334-3594-44be-f910-2e5a829ea268",
        "scrolled": true,
        "colab": {
          "base_uri": "https://localhost:8080/",
          "height": 419
        }
      },
      "outputs": [
        {
          "output_type": "display_data",
          "data": {
            "image/png": "[encoded data removed]",
            "text/plain": [
              "<Figure size 864x432 with 1 Axes>"
            ]
          },
          "metadata": {
            "needs_background": "light"
          }
        }
      ],
      "source": [
        "plt.figure(figsize=[12,6]);\n",
        "plt.bar(a.index,a.wrong_fragment);\n",
        "plt.title('total number of wrong fragment',fontsize=20,color='black',family='serif');\n",
        "plt.xlabel('wrong_fragment',fontsize=20,color='black',family='serif');\n",
        "plt.ylabel('attack',fontsize=20,color='black',family='serif');"
      ]
    },
    {
      "cell_type": "code",
      "execution_count": null,
      "id": "938f4baf",
      "metadata": {
        "id": "938f4baf",
        "outputId": "516325b7-ff55-41c7-9efb-a376bbd2788c",
        "colab": {
          "base_uri": "https://localhost:8080/",
          "height": 1000
        }
      },
      "outputs": [
        {
          "output_type": "execute_result",
          "data": {
            "text/plain": [
              "<matplotlib.axes._subplots.AxesSubplot at 0x7fa91c7cb090>"
            ]
          },
          "metadata": {},
          "execution_count": 55
        },
        {
          "output_type": "display_data",
          "data": {
            "image/png": "[encoded data removed]",
            "text/plain": [
              "<Figure size 1440x2160 with 1 Axes>"
            ]
          },
          "metadata": {}
        }
      ],
      "source": [
        "#check outlayers again+infinit\n",
        "plt.subplots(figsize=(20, 30))\n",
        "\n",
        "sns.boxplot(data= df)\n",
        "#def outlier_capping(x):\n",
        " #   x = x.clip(upper=x.quantile(0.99))\n",
        " #   x = x.clip(lower=x.quantile(0.01))\n",
        "  #  return x\n",
        "\n",
        "#train_num=train_num.apply(outlier_capping)"
      ]
    },
    {
      "cell_type": "code",
      "execution_count": null,
      "id": "42db1278",
      "metadata": {
        "id": "42db1278",
        "outputId": "6b686df3-42bf-4fec-c98d-d82294fd326a",
        "colab": {
          "base_uri": "https://localhost:8080/",
          "height": 799
        }
      },
      "outputs": [
        {
          "output_type": "display_data",
          "data": {
            "image/png": "[encoded data removed]",
            "text/plain": [
              "<Figure size 864x864 with 2 Axes>"
            ]
          },
          "metadata": {}
        }
      ],
      "source": [
        "### 5 What is the correlation between the features?\n",
        "plt.figure(figsize=(12,12))\n",
        "sns.heatmap(df.corr(), vmax = 1, vmin = -1, cmap = 'YlGnBu', cbar=True, annot=True, square=True, fmt='.2f', annot_kws = {'size': 10});\n"
      ]
    },
    {
      "cell_type": "markdown",
      "id": "a19e6d27",
      "metadata": {
        "id": "a19e6d27"
      },
      "source": [
        "##############################################################################################################################"
      ]
    },
    {
      "cell_type": "markdown",
      "id": "dff54693",
      "metadata": {
        "id": "dff54693"
      },
      "source": [
        "# **Part 3: Machine Learning Model**"
      ]
    },
    {
      "cell_type": "code",
      "execution_count": 17,
      "id": "b13fd187",
      "metadata": {
        "id": "b13fd187"
      },
      "outputs": [],
      "source": [
        "protocol_dummies = pd.get_dummies(df['protocol_type'])#df=pd.get_dummies(df)\n"
      ]
    },
    {
      "cell_type": "code",
      "execution_count": 18,
      "id": "b_bTTxWOEN4P",
      "metadata": {
        "id": "b_bTTxWOEN4P"
      },
      "outputs": [],
      "source": [
        "df = pd.concat([df, protocol_dummies], axis=1)"
      ]
    },
    {
      "cell_type": "code",
      "execution_count": 19,
      "id": "4qAo1JkBEgKs",
      "metadata": {
        "id": "4qAo1JkBEgKs"
      },
      "outputs": [],
      "source": [
        "service_dummies = pd.get_dummies(df['service'], prefix='service_')"
      ]
    },
    {
      "cell_type": "code",
      "execution_count": 20,
      "id": "Ms7Cg29xEqlB",
      "metadata": {
        "id": "Ms7Cg29xEqlB"
      },
      "outputs": [],
      "source": [
        "df = pd.concat([df, service_dummies], axis=1)"
      ]
    },
    {
      "cell_type": "code",
      "execution_count": 21,
      "id": "idZf2RM8EPU2",
      "metadata": {
        "id": "idZf2RM8EPU2"
      },
      "outputs": [],
      "source": [
        "flag_dummies = pd.get_dummies(df['flag'], prefix='flag__')"
      ]
    },
    {
      "cell_type": "code",
      "execution_count": 22,
      "id": "HuecN0krFBmD",
      "metadata": {
        "id": "HuecN0krFBmD"
      },
      "outputs": [],
      "source": [
        "df = pd.concat([df, flag_dummies], axis=1)"
      ]
    },
    {
      "cell_type": "code",
      "execution_count": 23,
      "id": "Le59n-BhHWjU",
      "metadata": {
        "id": "Le59n-BhHWjU"
      },
      "outputs": [],
      "source": [
        "df.drop('protocol_type', inplace=True, axis=1)"
      ]
    },
    {
      "cell_type": "code",
      "execution_count": 24,
      "id": "_JsUheP0Habd",
      "metadata": {
        "id": "_JsUheP0Habd"
      },
      "outputs": [],
      "source": [
        "df.drop('flag', inplace=True, axis=1)"
      ]
    },
    {
      "cell_type": "code",
      "execution_count": 25,
      "id": "ryo4AmdkHcMy",
      "metadata": {
        "id": "ryo4AmdkHcMy"
      },
      "outputs": [],
      "source": [
        "df.drop('service', inplace=True, axis=1)"
      ]
    },
    {
      "cell_type": "code",
      "execution_count": 26,
      "id": "vZfbUUOhFJHo",
      "metadata": {
        "id": "vZfbUUOhFJHo"
      },
      "outputs": [],
      "source": [
        "df[\"attack\"] = df[\"attack\"].astype(object).astype(int)"
      ]
    },
    {
      "cell_type": "code",
      "execution_count": 27,
      "id": "2be5fcff",
      "metadata": {
        "colab": {
          "base_uri": "https://localhost:8080/",
          "height": 173
        },
        "id": "2be5fcff",
        "outputId": "417f405b-4c9b-4043-fa80-0c921c41b5ed"
      },
      "outputs": [
        {
          "output_type": "execute_result",
          "data": {
            "text/html": [
              "\n",
              "  <div id=\"df-b416c49a-db7c-4ac1-a03e-c10bd0a69bdf\">\n",
              "    <div class=\"colab-df-container\">\n",
              "      <div>\n",
              "<style scoped>\n",
              "    .dataframe tbody tr th:only-of-type {\n",
              "        vertical-align: middle;\n",
              "    }\n",
              "\n",
              "    .dataframe tbody tr th {\n",
              "        vertical-align: top;\n",
              "    }\n",
              "\n",
              "    .dataframe thead th {\n",
              "        text-align: right;\n",
              "    }\n",
              "</style>\n",
              "<table border=\"1\" class=\"dataframe\">\n",
              "  <thead>\n",
              "    <tr style=\"text-align: right;\">\n",
              "      <th></th>\n",
              "      <th>duration</th>\n",
              "      <th>src_bytes</th>\n",
              "      <th>dst_bytes</th>\n",
              "      <th>land</th>\n",
              "      <th>wrong_fragment</th>\n",
              "      <th>urgent</th>\n",
              "      <th>hot</th>\n",
              "      <th>num_failed_logins</th>\n",
              "      <th>logged_in</th>\n",
              "      <th>num_compromised</th>\n",
              "      <th>root_shell</th>\n",
              "      <th>su_attempted</th>\n",
              "      <th>num_root</th>\n",
              "      <th>num_file_creations</th>\n",
              "      <th>num_shells</th>\n",
              "      <th>num_access_files</th>\n",
              "      <th>num_outbound_cmds</th>\n",
              "      <th>is_host_login</th>\n",
              "      <th>is_guest_login</th>\n",
              "      <th>count</th>\n",
              "      <th>srv_count</th>\n",
              "      <th>serror_rate</th>\n",
              "      <th>srv_serror_rate</th>\n",
              "      <th>rerror_rate</th>\n",
              "      <th>srv_rerror_rate</th>\n",
              "      <th>same_srv_rate</th>\n",
              "      <th>diff_srv_rate</th>\n",
              "      <th>srv_diff_host_rate</th>\n",
              "      <th>dst_host_count</th>\n",
              "      <th>dst_host_srv_count</th>\n",
              "      <th>dst_host_same_srv_rate</th>\n",
              "      <th>dst_host_diff_srv_rate</th>\n",
              "      <th>dst_host_same_src_port_rate</th>\n",
              "      <th>dst_host_srv_diff_host_rate</th>\n",
              "      <th>dst_host_serror_rate</th>\n",
              "      <th>dst_host_srv_serror_rate</th>\n",
              "      <th>dst_host_rerror_rate</th>\n",
              "      <th>dst_host_srv_rerror_rate</th>\n",
              "      <th>attack</th>\n",
              "      <th>icmp</th>\n",
              "      <th>...</th>\n",
              "      <th>service__netstat</th>\n",
              "      <th>service__nnsp</th>\n",
              "      <th>service__nntp</th>\n",
              "      <th>service__ntp_u</th>\n",
              "      <th>service__other</th>\n",
              "      <th>service__pm_dump</th>\n",
              "      <th>service__pop_2</th>\n",
              "      <th>service__pop_3</th>\n",
              "      <th>service__printer</th>\n",
              "      <th>service__private</th>\n",
              "      <th>service__red_i</th>\n",
              "      <th>service__remote_job</th>\n",
              "      <th>service__rje</th>\n",
              "      <th>service__shell</th>\n",
              "      <th>service__smtp</th>\n",
              "      <th>service__sql_net</th>\n",
              "      <th>service__ssh</th>\n",
              "      <th>service__sunrpc</th>\n",
              "      <th>service__supdup</th>\n",
              "      <th>service__systat</th>\n",
              "      <th>service__telnet</th>\n",
              "      <th>service__tim_i</th>\n",
              "      <th>service__time</th>\n",
              "      <th>service__urh_i</th>\n",
              "      <th>service__urp_i</th>\n",
              "      <th>service__uucp</th>\n",
              "      <th>service__uucp_path</th>\n",
              "      <th>service__vmnet</th>\n",
              "      <th>service__whois</th>\n",
              "      <th>flag___OTH</th>\n",
              "      <th>flag___REJ</th>\n",
              "      <th>flag___RSTO</th>\n",
              "      <th>flag___RSTOS0</th>\n",
              "      <th>flag___RSTR</th>\n",
              "      <th>flag___S0</th>\n",
              "      <th>flag___S1</th>\n",
              "      <th>flag___S2</th>\n",
              "      <th>flag___S3</th>\n",
              "      <th>flag___SF</th>\n",
              "      <th>flag___SH</th>\n",
              "    </tr>\n",
              "  </thead>\n",
              "  <tbody>\n",
              "    <tr>\n",
              "      <th>0</th>\n",
              "      <td>0</td>\n",
              "      <td>491</td>\n",
              "      <td>0</td>\n",
              "      <td>0</td>\n",
              "      <td>0</td>\n",
              "      <td>0</td>\n",
              "      <td>0</td>\n",
              "      <td>0</td>\n",
              "      <td>0</td>\n",
              "      <td>0</td>\n",
              "      <td>0</td>\n",
              "      <td>0</td>\n",
              "      <td>0</td>\n",
              "      <td>0</td>\n",
              "      <td>0</td>\n",
              "      <td>0</td>\n",
              "      <td>0</td>\n",
              "      <td>0</td>\n",
              "      <td>0</td>\n",
              "      <td>2</td>\n",
              "      <td>2</td>\n",
              "      <td>0.0</td>\n",
              "      <td>0.0</td>\n",
              "      <td>0.0</td>\n",
              "      <td>0.0</td>\n",
              "      <td>1.0</td>\n",
              "      <td>0.0</td>\n",
              "      <td>0.0</td>\n",
              "      <td>150</td>\n",
              "      <td>25</td>\n",
              "      <td>0.17</td>\n",
              "      <td>0.03</td>\n",
              "      <td>0.17</td>\n",
              "      <td>0.0</td>\n",
              "      <td>0.0</td>\n",
              "      <td>0.0</td>\n",
              "      <td>0.05</td>\n",
              "      <td>0.0</td>\n",
              "      <td>1</td>\n",
              "      <td>0</td>\n",
              "      <td>...</td>\n",
              "      <td>0</td>\n",
              "      <td>0</td>\n",
              "      <td>0</td>\n",
              "      <td>0</td>\n",
              "      <td>0</td>\n",
              "      <td>0</td>\n",
              "      <td>0</td>\n",
              "      <td>0</td>\n",
              "      <td>0</td>\n",
              "      <td>0</td>\n",
              "      <td>0</td>\n",
              "      <td>0</td>\n",
              "      <td>0</td>\n",
              "      <td>0</td>\n",
              "      <td>0</td>\n",
              "      <td>0</td>\n",
              "      <td>0</td>\n",
              "      <td>0</td>\n",
              "      <td>0</td>\n",
              "      <td>0</td>\n",
              "      <td>0</td>\n",
              "      <td>0</td>\n",
              "      <td>0</td>\n",
              "      <td>0</td>\n",
              "      <td>0</td>\n",
              "      <td>0</td>\n",
              "      <td>0</td>\n",
              "      <td>0</td>\n",
              "      <td>0</td>\n",
              "      <td>0</td>\n",
              "      <td>0</td>\n",
              "      <td>0</td>\n",
              "      <td>0</td>\n",
              "      <td>0</td>\n",
              "      <td>0</td>\n",
              "      <td>0</td>\n",
              "      <td>0</td>\n",
              "      <td>0</td>\n",
              "      <td>1</td>\n",
              "      <td>0</td>\n",
              "    </tr>\n",
              "  </tbody>\n",
              "</table>\n",
              "<p>1 rows × 119 columns</p>\n",
              "</div>\n",
              "      <button class=\"colab-df-convert\" onclick=\"convertToInteractive('df-b416c49a-db7c-4ac1-a03e-c10bd0a69bdf')\"\n",
              "              title=\"Convert this dataframe to an interactive table.\"\n",
              "              style=\"display:none;\">\n",
              "        \n",
              "  <svg xmlns=\"http://www.w3.org/2000/svg\" height=\"24px\"viewBox=\"0 0 24 24\"\n",
              "       width=\"24px\">\n",
              "    <path d=\"M0 0h24v24H0V0z\" fill=\"none\"/>\n",
              "    <path d=\"M18.56 5.44l.94 2.06.94-2.06 2.06-.94-2.06-.94-.94-2.06-.94 2.06-2.06.94zm-11 1L8.5 8.5l.94-2.06 2.06-.94-2.06-.94L8.5 2.5l-.94 2.06-2.06.94zm10 10l.94 2.06.94-2.06 2.06-.94-2.06-.94-.94-2.06-.94 2.06-2.06.94z\"/><path d=\"M17.41 7.96l-1.37-1.37c-.4-.4-.92-.59-1.43-.59-.52 0-1.04.2-1.43.59L10.3 9.45l-7.72 7.72c-.78.78-.78 2.05 0 2.83L4 21.41c.39.39.9.59 1.41.59.51 0 1.02-.2 1.41-.59l7.78-7.78 2.81-2.81c.8-.78.8-2.07 0-2.86zM5.41 20L4 18.59l7.72-7.72 1.47 1.35L5.41 20z\"/>\n",
              "  </svg>\n",
              "      </button>\n",
              "      \n",
              "  <style>\n",
              "    .colab-df-container {\n",
              "      display:flex;\n",
              "      flex-wrap:wrap;\n",
              "      gap: 12px;\n",
              "    }\n",
              "\n",
              "    .colab-df-convert {\n",
              "      background-color: #E8F0FE;\n",
              "      border: none;\n",
              "      border-radius: 50%;\n",
              "      cursor: pointer;\n",
              "      display: none;\n",
              "      fill: #1967D2;\n",
              "      height: 32px;\n",
              "      padding: 0 0 0 0;\n",
              "      width: 32px;\n",
              "    }\n",
              "\n",
              "    .colab-df-convert:hover {\n",
              "      background-color: #E2EBFA;\n",
              "      box-shadow: 0px 1px 2px rgba(60, 64, 67, 0.3), 0px 1px 3px 1px rgba(60, 64, 67, 0.15);\n",
              "      fill: #174EA6;\n",
              "    }\n",
              "\n",
              "    [theme=dark] .colab-df-convert {\n",
              "      background-color: #3B4455;\n",
              "      fill: #D2E3FC;\n",
              "    }\n",
              "\n",
              "    [theme=dark] .colab-df-convert:hover {\n",
              "      background-color: #434B5C;\n",
              "      box-shadow: 0px 1px 3px 1px rgba(0, 0, 0, 0.15);\n",
              "      filter: drop-shadow(0px 1px 2px rgba(0, 0, 0, 0.3));\n",
              "      fill: #FFFFFF;\n",
              "    }\n",
              "  </style>\n",
              "\n",
              "      <script>\n",
              "        const buttonEl =\n",
              "          document.querySelector('#df-b416c49a-db7c-4ac1-a03e-c10bd0a69bdf button.colab-df-convert');\n",
              "        buttonEl.style.display =\n",
              "          google.colab.kernel.accessAllowed ? 'block' : 'none';\n",
              "\n",
              "        async function convertToInteractive(key) {\n",
              "          const element = document.querySelector('#df-b416c49a-db7c-4ac1-a03e-c10bd0a69bdf');\n",
              "          const dataTable =\n",
              "            await google.colab.kernel.invokeFunction('convertToInteractive',\n",
              "                                                     [key], {});\n",
              "          if (!dataTable) return;\n",
              "\n",
              "          const docLinkHtml = 'Like what you see? Visit the ' +\n",
              "            '<a target=\"_blank\" href=https://colab.research.google.com/notebooks/data_table.ipynb>data table notebook</a>'\n",
              "            + ' to learn more about interactive tables.';\n",
              "          element.innerHTML = '';\n",
              "          dataTable['output_type'] = 'display_data';\n",
              "          await google.colab.output.renderOutput(dataTable, element);\n",
              "          const docLink = document.createElement('div');\n",
              "          docLink.innerHTML = docLinkHtml;\n",
              "          element.appendChild(docLink);\n",
              "        }\n",
              "      </script>\n",
              "    </div>\n",
              "  </div>\n",
              "  "
            ],
            "text/plain": [
              "   duration  src_bytes  dst_bytes  ...  flag___S3  flag___SF  flag___SH\n",
              "0         0        491          0  ...          0          1          0\n",
              "\n",
              "[1 rows x 119 columns]"
            ]
          },
          "metadata": {},
          "execution_count": 27
        }
      ],
      "source": [
        "df.head(1)"
      ]
    },
    {
      "cell_type": "code",
      "execution_count": null,
      "id": "c3c17406",
      "metadata": {
        "colab": {
          "base_uri": "https://localhost:8080/"
        },
        "id": "c3c17406",
        "outputId": "2f49fa92-aa33-4da1-e581-0caf6c2f854b"
      },
      "outputs": [
        {
          "output_type": "execute_result",
          "data": {
            "text/plain": [
              "0        1\n",
              "1        1\n",
              "2        0\n",
              "3        1\n",
              "4        1\n",
              "        ..\n",
              "25187    0\n",
              "25188    0\n",
              "25189    0\n",
              "25190    0\n",
              "25191    0\n",
              "Name: attack, Length: 25192, dtype: int64"
            ]
          },
          "metadata": {},
          "execution_count": 21
        }
      ],
      "source": [
        "df.attack"
      ]
    },
    {
      "cell_type": "markdown",
      "id": "f5e79b67",
      "metadata": {
        "id": "f5e79b67"
      },
      "source": [
        "###  Define input and output columns"
      ]
    },
    {
      "cell_type": "code",
      "execution_count": 28,
      "id": "46368018",
      "metadata": {
        "id": "46368018"
      },
      "outputs": [],
      "source": [
        "X=df.drop([\"attack\"], axis=1)\n",
        "y = df['attack']\n",
        "#x -> independent columns   #y -> target column \n"
      ]
    },
    {
      "cell_type": "code",
      "execution_count": 29,
      "id": "4cf8d467",
      "metadata": {
        "colab": {
          "base_uri": "https://localhost:8080/"
        },
        "id": "4cf8d467",
        "outputId": "04c5d853-0b87-4d49-a47f-98f983ee7438"
      },
      "outputs": [
        {
          "output_type": "execute_result",
          "data": {
            "text/plain": [
              "(25192, 118)"
            ]
          },
          "metadata": {},
          "execution_count": 29
        }
      ],
      "source": [
        "X.shape"
      ]
    },
    {
      "cell_type": "code",
      "execution_count": 30,
      "id": "852e4abf",
      "metadata": {
        "colab": {
          "base_uri": "https://localhost:8080/"
        },
        "id": "852e4abf",
        "outputId": "f6a53cd1-8d69-4291-e809-4d30b1effd59"
      },
      "outputs": [
        {
          "output_type": "execute_result",
          "data": {
            "text/plain": [
              "(25192,)"
            ]
          },
          "metadata": {},
          "execution_count": 30
        }
      ],
      "source": [
        "y.shape"
      ]
    },
    {
      "cell_type": "markdown",
      "id": "433fe916",
      "metadata": {
        "id": "433fe916"
      },
      "source": [
        "###  Split dataset into train and test datasets"
      ]
    },
    {
      "cell_type": "code",
      "execution_count": 31,
      "id": "48da6d6d",
      "metadata": {
        "id": "48da6d6d"
      },
      "outputs": [],
      "source": [
        " X_Train, X_test, y_Train, y_test = train_test_split(X, y, test_size=.3, random_state=10) "
      ]
    },
    {
      "cell_type": "code",
      "execution_count": 32,
      "id": "d3w2zG0SWk_I",
      "metadata": {
        "id": "d3w2zG0SWk_I"
      },
      "outputs": [],
      "source": [
        " X_Train, X_val, y_Train, y_val = train_test_split(X, y, test_size=.3, random_state=10) "
      ]
    },
    {
      "cell_type": "code",
      "execution_count": 33,
      "id": "c19f9212",
      "metadata": {
        "id": "c19f9212"
      },
      "outputs": [],
      "source": [
        "from sklearn.preprocessing import StandardScaler"
      ]
    },
    {
      "cell_type": "code",
      "execution_count": 34,
      "id": "5bfbc6cb",
      "metadata": {
        "id": "5bfbc6cb"
      },
      "outputs": [],
      "source": [
        "SC=StandardScaler()"
      ]
    },
    {
      "cell_type": "code",
      "execution_count": 35,
      "id": "a791804f",
      "metadata": {
        "colab": {
          "base_uri": "https://localhost:8080/"
        },
        "id": "a791804f",
        "outputId": "bf8e5170-d19a-486c-eaa9-46918d6f25f8"
      },
      "outputs": [
        {
          "output_type": "execute_result",
          "data": {
            "text/plain": [
              "array([[-0.11226224, -0.01065328, -0.03506977, ..., -0.02609534,\n",
              "         0.82311082, -0.03915969],\n",
              "       [-0.11226224, -0.01073975, -0.03677146, ..., -0.02609534,\n",
              "         0.82311082, -0.03915969],\n",
              "       [-0.11226224, -0.01074253, -0.03832665, ..., -0.02609534,\n",
              "        -1.21490324, -0.03915969],\n",
              "       ...,\n",
              "       [-0.11226224, -0.01065537, -0.03352585, ..., -0.02609534,\n",
              "         0.82311082, -0.03915969],\n",
              "       [-0.11226224, -0.01074253, -0.03832665, ..., -0.02609534,\n",
              "        -1.21490324, -0.03915969],\n",
              "       [-0.11226224, -0.01064009, -0.00456325, ..., -0.02609534,\n",
              "         0.82311082, -0.03915969]])"
            ]
          },
          "metadata": {},
          "execution_count": 35
        }
      ],
      "source": [
        "x_train_s = SC.fit_transform(X_Train)\n",
        "x_train_s"
      ]
    },
    {
      "cell_type": "code",
      "execution_count": 36,
      "id": "283b9234",
      "metadata": {
        "colab": {
          "base_uri": "https://localhost:8080/"
        },
        "id": "283b9234",
        "outputId": "fbe3b48c-a0f4-4043-958c-d4b570e75689"
      },
      "outputs": [
        {
          "output_type": "execute_result",
          "data": {
            "text/plain": [
              "array([[-0.11679676, -0.05709751, -0.04159588, ..., -0.01992707,\n",
              "        -1.20017758, -0.04605924],\n",
              "       [-0.11679676, -0.02948151, -0.04159588, ..., -0.01992707,\n",
              "         0.83321003, -0.04605924],\n",
              "       [-0.11641165, -0.03890012, -0.03747447, ..., -0.01992707,\n",
              "         0.83321003, -0.04605924],\n",
              "       ...,\n",
              "       [-0.11679676, -0.05709751, -0.04159588, ..., -0.01992707,\n",
              "        -1.20017758, -0.04605924],\n",
              "       [-0.11679676, -0.05709751, -0.04159588, ..., -0.01992707,\n",
              "        -1.20017758, -0.04605924],\n",
              "       [-0.11641165, -0.04168988, -0.03791244, ..., -0.01992707,\n",
              "         0.83321003, -0.04605924]])"
            ]
          },
          "metadata": {},
          "execution_count": 36
        }
      ],
      "source": [
        "A_val_s = SC.fit_transform(X_val)\n",
        "A_val_s"
      ]
    },
    {
      "cell_type": "code",
      "execution_count": 37,
      "id": "ecd3f258",
      "metadata": {
        "colab": {
          "base_uri": "https://localhost:8080/"
        },
        "id": "ecd3f258",
        "outputId": "49ccfbe0-bd2e-4908-912f-1832b5d59fca"
      },
      "outputs": [
        {
          "output_type": "execute_result",
          "data": {
            "text/plain": [
              "array([[-0.11679676, -0.05709751, -0.04159588, ..., -0.01992707,\n",
              "        -1.20017758, -0.04605924],\n",
              "       [-0.11679676, -0.02948151, -0.04159588, ..., -0.01992707,\n",
              "         0.83321003, -0.04605924],\n",
              "       [-0.11641165, -0.03890012, -0.03747447, ..., -0.01992707,\n",
              "         0.83321003, -0.04605924],\n",
              "       ...,\n",
              "       [-0.11679676, -0.05709751, -0.04159588, ..., -0.01992707,\n",
              "        -1.20017758, -0.04605924],\n",
              "       [-0.11679676, -0.05709751, -0.04159588, ..., -0.01992707,\n",
              "        -1.20017758, -0.04605924],\n",
              "       [-0.11641165, -0.04168988, -0.03791244, ..., -0.01992707,\n",
              "         0.83321003, -0.04605924]])"
            ]
          },
          "metadata": {},
          "execution_count": 37
        }
      ],
      "source": [
        "A_test_s = SC.fit_transform(X_test)\n",
        "A_test_s "
      ]
    },
    {
      "cell_type": "markdown",
      "id": "dc69704e",
      "metadata": {
        "id": "dc69704e"
      },
      "source": [
        "# 3.1 Build Classification Models\n"
      ]
    },
    {
      "cell_type": "markdown",
      "id": "INuv6IofRtU3",
      "metadata": {
        "id": "INuv6IofRtU3"
      },
      "source": [
        "## 1) K- nearest Neighbor Classifier"
      ]
    },
    {
      "cell_type": "code",
      "execution_count": 38,
      "id": "ChoPXaycTzy5",
      "metadata": {
        "id": "ChoPXaycTzy5"
      },
      "outputs": [],
      "source": [
        "from sklearn.neighbors import KNeighborsClassifier\n",
        "from sklearn.model_selection import GridSearchCV"
      ]
    },
    {
      "cell_type": "code",
      "execution_count": 39,
      "id": "207af21f",
      "metadata": {
        "colab": {
          "base_uri": "https://localhost:8080/"
        },
        "id": "207af21f",
        "outputId": "c5c29098-e6c8-4172-a618-98b7b5d48897"
      },
      "outputs": [
        {
          "output_type": "stream",
          "name": "stdout",
          "text": [
            "[1, 2, 3, 4, 5, 6, 7, 8, 9, 10, 11, 12, 13, 14, 15, 16, 17, 18, 19, 20, 21, 22, 23, 24, 25, 26, 27, 28, 29, 30]\n"
          ]
        }
      ],
      "source": [
        "kn_range=list(range(1,31))\n",
        "print(kn_range)"
      ]
    },
    {
      "cell_type": "code",
      "execution_count": 40,
      "id": "f9e45f42",
      "metadata": {
        "colab": {
          "base_uri": "https://localhost:8080/"
        },
        "id": "f9e45f42",
        "outputId": "e94ba810-a131-4d7a-9d5e-52ba7b618b72"
      },
      "outputs": [
        {
          "output_type": "stream",
          "name": "stdout",
          "text": [
            "{'n_neighbors': [1, 2, 3, 4, 5, 6, 7, 8, 9, 10, 11, 12, 13, 14, 15, 16, 17, 18, 19, 20, 21, 22, 23, 24, 25, 26, 27, 28, 29, 30]}\n"
          ]
        }
      ],
      "source": [
        "param_grid=dict(n_neighbors=kn_range)\n",
        "print(param_grid)\n"
      ]
    },
    {
      "cell_type": "code",
      "execution_count": 41,
      "id": "CcDYiOHnT3iK",
      "metadata": {
        "colab": {
          "base_uri": "https://localhost:8080/"
        },
        "id": "CcDYiOHnT3iK",
        "outputId": "5229bf77-b068-4237-b71e-edeea5eec336"
      },
      "outputs": [
        {
          "output_type": "execute_result",
          "data": {
            "text/plain": [
              "GridSearchCV(cv=5, estimator=KNeighborsClassifier(),\n",
              "             param_grid={'n_neighbors': [1, 2, 3, 4, 5, 6, 7, 8, 9, 10, 11, 12,\n",
              "                                         13, 14, 15, 16, 17, 18, 19, 20, 21, 22,\n",
              "                                         23, 24, 25, 26, 27, 28, 29, 30]},\n",
              "             scoring='recall')"
            ]
          },
          "metadata": {},
          "execution_count": 41
        }
      ],
      "source": [
        "k_neigh = KNeighborsClassifier()\n",
        "grid = GridSearchCV(k_neigh, param_grid, cv=5, scoring='recall')\n",
        "grid.fit(X_Train, y_Train)\n"
      ]
    },
    {
      "cell_type": "code",
      "execution_count": 42,
      "id": "50c05e92",
      "metadata": {
        "colab": {
          "base_uri": "https://localhost:8080/"
        },
        "id": "50c05e92",
        "outputId": "8d83aee7-b400-4471-a979-be497a5d6c82"
      },
      "outputs": [
        {
          "output_type": "execute_result",
          "data": {
            "text/plain": [
              "{'n_neighbors': 1}"
            ]
          },
          "metadata": {},
          "execution_count": 42
        }
      ],
      "source": [
        "grid.best_params_"
      ]
    },
    {
      "cell_type": "code",
      "execution_count": 43,
      "id": "c786d6c5",
      "metadata": {
        "id": "c786d6c5"
      },
      "outputs": [],
      "source": [
        "k_nn = KNeighborsClassifier() #grid serch result\n",
        "k_nn.fit(X_Train, y_Train)\n",
        "y_predv=k_nn.predict(X_val)\n",
        "y_pred=k_nn.predict(X_test)"
      ]
    },
    {
      "cell_type": "code",
      "execution_count": null,
      "id": "CWB4THlNT3Zj",
      "metadata": {
        "id": "CWB4THlNT3Zj"
      },
      "outputs": [],
      "source": [
        "#y_pred=k_neigh.predict(X_test)\n",
        "#y_pred"
      ]
    },
    {
      "cell_type": "code",
      "execution_count": 44,
      "id": "4L5nHU9yT3QT",
      "metadata": {
        "colab": {
          "base_uri": "https://localhost:8080/"
        },
        "id": "4L5nHU9yT3QT",
        "outputId": "43c6cca6-547e-4887-8e89-1cfc4dcfb0ca"
      },
      "outputs": [
        {
          "output_type": "execute_result",
          "data": {
            "text/plain": [
              "0.9847843344800211"
            ]
          },
          "metadata": {},
          "execution_count": 44
        }
      ],
      "source": [
        "from sklearn.metrics import accuracy_score\n",
        "accuracy_score(y_test, y_pred)"
      ]
    },
    {
      "cell_type": "code",
      "source": [
        "df.attack.value_counts()"
      ],
      "metadata": {
        "colab": {
          "base_uri": "https://localhost:8080/"
        },
        "id": "1XVqayAO-HTG",
        "outputId": "5c83542a-494a-4850-e55a-f4987b60c3d4"
      },
      "id": "1XVqayAO-HTG",
      "execution_count": 45,
      "outputs": [
        {
          "output_type": "execute_result",
          "data": {
            "text/plain": [
              "1    13449\n",
              "0    11743\n",
              "Name: attack, dtype: int64"
            ]
          },
          "metadata": {},
          "execution_count": 45
        }
      ]
    },
    {
      "cell_type": "code",
      "execution_count": 46,
      "id": "bf4f9f0c",
      "metadata": {
        "colab": {
          "base_uri": "https://localhost:8080/"
        },
        "id": "bf4f9f0c",
        "outputId": "d0c791e2-7535-4658-e46f-0128d430f1fe"
      },
      "outputs": [
        {
          "output_type": "stream",
          "name": "stdout",
          "text": [
            "              precision    recall  f1-score   support\n",
            "\n",
            "           0       0.98      0.99      0.98      3561\n",
            "           1       0.99      0.98      0.99      3997\n",
            "\n",
            "    accuracy                           0.98      7558\n",
            "   macro avg       0.98      0.98      0.98      7558\n",
            "weighted avg       0.98      0.98      0.98      7558\n",
            "\n"
          ]
        }
      ],
      "source": [
        "from sklearn.metrics import classification_report\n",
        "print(classification_report(y_test, y_pred))"
      ]
    },
    {
      "cell_type": "markdown",
      "id": "ead514c0",
      "metadata": {
        "id": "ead514c0"
      },
      "source": [
        "## **3.1.1 : LogisticRegression**"
      ]
    },
    {
      "cell_type": "markdown",
      "id": "5q-xzz2_RnsU",
      "metadata": {
        "id": "5q-xzz2_RnsU"
      },
      "source": [
        "1) LogisticRegression"
      ]
    },
    {
      "cell_type": "code",
      "execution_count": 47,
      "id": "FnXYvnn0RPr1",
      "metadata": {
        "id": "FnXYvnn0RPr1"
      },
      "outputs": [],
      "source": [
        "from sklearn.metrics import accuracy_score\n",
        "from sklearn.model_selection import GridSearchCV\n"
      ]
    },
    {
      "cell_type": "code",
      "execution_count": 48,
      "id": "mbov5QM0R0BR",
      "metadata": {
        "id": "mbov5QM0R0BR"
      },
      "outputs": [],
      "source": [
        "grid_values = {'penalty': ['l1','l2'], 'C': [0.001,0.01,0.1,1,10,100,1000]}\n",
        "model_lr = GridSearchCV(grid_values, param_grid=grid_values)"
      ]
    },
    {
      "cell_type": "code",
      "execution_count": 49,
      "id": "85g1yXySR015",
      "metadata": {
        "colab": {
          "base_uri": "https://localhost:8080/"
        },
        "id": "85g1yXySR015",
        "outputId": "5f7c390f-575f-45a0-b140-3a7f4cca6548"
      },
      "outputs": [
        {
          "output_type": "stream",
          "name": "stdout",
          "text": [
            "{'param_grid': {'penalty': ['l1', 'l2'], 'C': [0.001, 0.01, 0.1, 1, 10, 100, 1000]}}\n"
          ]
        }
      ],
      "source": [
        "param_grid=dict(param_grid=grid_values)\n",
        "print(param_grid)"
      ]
    },
    {
      "cell_type": "code",
      "execution_count": 50,
      "id": "BrQ2EZilR0tu",
      "metadata": {
        "colab": {
          "base_uri": "https://localhost:8080/"
        },
        "id": "BrQ2EZilR0tu",
        "outputId": "cf93531b-f173-4beb-8cd3-867cf7760535"
      },
      "outputs": [
        {
          "output_type": "execute_result",
          "data": {
            "text/plain": [
              "GridSearchCV(cv=5, estimator=LogisticRegression(),\n",
              "             param_grid={'C': [0.001, 0.01, 0.1, 1, 10, 100, 1000],\n",
              "                         'penalty': ['l1', 'l2']},\n",
              "             scoring='precision')"
            ]
          },
          "metadata": {},
          "execution_count": 50
        }
      ],
      "source": [
        "modalLogisr=LogisticRegression()\n",
        "Logistic = GridSearchCV(modalLogisr, grid_values, cv=5, scoring='precision')\n",
        "Logistic.fit(X_Train,y_Train)"
      ]
    },
    {
      "cell_type": "code",
      "execution_count": 51,
      "id": "oZ-lgAt5R0lG",
      "metadata": {
        "colab": {
          "base_uri": "https://localhost:8080/"
        },
        "id": "oZ-lgAt5R0lG",
        "outputId": "a8a108b8-365b-4bac-d58a-ef802a574076"
      },
      "outputs": [
        {
          "output_type": "execute_result",
          "data": {
            "text/plain": [
              "{'C': 0.01, 'penalty': 'l2'}"
            ]
          },
          "metadata": {},
          "execution_count": 51
        }
      ],
      "source": [
        "Logistic.best_params_"
      ]
    },
    {
      "cell_type": "code",
      "execution_count": 52,
      "id": "2aWGurrSR0cQ",
      "metadata": {
        "id": "2aWGurrSR0cQ"
      },
      "outputs": [],
      "source": [
        "modalLogisr=LogisticRegression( C=0.01, penalty='l2', solver='liblinear')\n",
        "modalLogisr.fit(X_Train,y_Train)\n",
        "val_predict=modalLogisr.predict(X_val)\n",
        "test_predict =modalLogisr.predict(X_test)"
      ]
    },
    {
      "cell_type": "code",
      "execution_count": 53,
      "id": "Jyk_S-Qrodsf",
      "metadata": {
        "colab": {
          "base_uri": "https://localhost:8080/"
        },
        "id": "Jyk_S-Qrodsf",
        "outputId": "e7520825-1ece-412b-db6e-a3133b9088e9"
      },
      "outputs": [
        {
          "output_type": "stream",
          "name": "stdout",
          "text": [
            "              precision    recall  f1-score   support\n",
            "\n",
            "           0       0.92      0.84      0.88      3561\n",
            "           1       0.87      0.94      0.90      3997\n",
            "\n",
            "    accuracy                           0.89      7558\n",
            "   macro avg       0.90      0.89      0.89      7558\n",
            "weighted avg       0.90      0.89      0.89      7558\n",
            "\n"
          ]
        }
      ],
      "source": [
        "from sklearn.metrics import classification_report\n",
        "print(classification_report(y_test, test_predict))"
      ]
    },
    {
      "cell_type": "code",
      "execution_count": 54,
      "id": "2b7e2570",
      "metadata": {
        "colab": {
          "base_uri": "https://localhost:8080/"
        },
        "id": "2b7e2570",
        "outputId": "1aa6442a-57bd-46f7-e7fd-f97c47d32975"
      },
      "outputs": [
        {
          "output_type": "execute_result",
          "data": {
            "text/plain": [
              "0.8929611008203229"
            ]
          },
          "metadata": {},
          "execution_count": 54
        }
      ],
      "source": [
        "#fit the model with data\n",
        "\n",
        "accuracy_score(y_test, test_predict)"
      ]
    },
    {
      "cell_type": "code",
      "source": [
        "from sklearn.metrics import plot_confusion_matrix\n",
        "plot_confusion_matrix(Logistic,\n",
        "                      X_test,\n",
        "                      y_test,\n",
        "                      values_format='d',\n",
        "                      display_labels=[\"0\", \"1\"])"
      ],
      "metadata": {
        "colab": {
          "base_uri": "https://localhost:8080/",
          "height": 296
        },
        "id": "IV_zfqZJWej_",
        "outputId": "891846f7-0538-4481-b3ff-261e8092e05b"
      },
      "id": "IV_zfqZJWej_",
      "execution_count": 55,
      "outputs": [
        {
          "output_type": "execute_result",
          "data": {
            "text/plain": [
              "<sklearn.metrics._plot.confusion_matrix.ConfusionMatrixDisplay at 0x7f0b35478dd0>"
            ]
          },
          "metadata": {},
          "execution_count": 55
        },
        {
          "output_type": "display_data",
          "data": {
            "image/png": "[encoded data removed]",
            "text/plain": [
              "<Figure size 432x288 with 2 Axes>"
            ]
          },
          "metadata": {
            "needs_background": "light"
          }
        }
      ]
    },
    {
      "cell_type": "markdown",
      "id": "QoxrvTgdarFv",
      "metadata": {
        "id": "QoxrvTgdarFv"
      },
      "source": [
        "# XGboost"
      ]
    },
    {
      "cell_type": "code",
      "execution_count": 56,
      "id": "ajLUzRYgay7j",
      "metadata": {
        "colab": {
          "base_uri": "https://localhost:8080/",
          "height": 297
        },
        "id": "ajLUzRYgay7j",
        "outputId": "1eb12d6e-4c1e-412f-f0f0-fe1feea5b93e"
      },
      "outputs": [
        {
          "output_type": "execute_result",
          "data": {
            "text/html": [
              "\n",
              "  <div id=\"df-11744d17-5b31-4ffc-af62-1bb059b9cc15\">\n",
              "    <div class=\"colab-df-container\">\n",
              "      <div>\n",
              "<style scoped>\n",
              "    .dataframe tbody tr th:only-of-type {\n",
              "        vertical-align: middle;\n",
              "    }\n",
              "\n",
              "    .dataframe tbody tr th {\n",
              "        vertical-align: top;\n",
              "    }\n",
              "\n",
              "    .dataframe thead th {\n",
              "        text-align: right;\n",
              "    }\n",
              "</style>\n",
              "<table border=\"1\" class=\"dataframe\">\n",
              "  <thead>\n",
              "    <tr style=\"text-align: right;\">\n",
              "      <th></th>\n",
              "      <th>duration</th>\n",
              "      <th>src_bytes</th>\n",
              "      <th>dst_bytes</th>\n",
              "      <th>land</th>\n",
              "      <th>wrong_fragment</th>\n",
              "      <th>urgent</th>\n",
              "      <th>hot</th>\n",
              "      <th>num_failed_logins</th>\n",
              "      <th>logged_in</th>\n",
              "      <th>num_compromised</th>\n",
              "      <th>root_shell</th>\n",
              "      <th>su_attempted</th>\n",
              "      <th>num_root</th>\n",
              "      <th>num_file_creations</th>\n",
              "      <th>num_shells</th>\n",
              "      <th>num_access_files</th>\n",
              "      <th>num_outbound_cmds</th>\n",
              "      <th>is_host_login</th>\n",
              "      <th>is_guest_login</th>\n",
              "      <th>count</th>\n",
              "      <th>srv_count</th>\n",
              "      <th>serror_rate</th>\n",
              "      <th>srv_serror_rate</th>\n",
              "      <th>rerror_rate</th>\n",
              "      <th>srv_rerror_rate</th>\n",
              "      <th>same_srv_rate</th>\n",
              "      <th>diff_srv_rate</th>\n",
              "      <th>srv_diff_host_rate</th>\n",
              "      <th>dst_host_count</th>\n",
              "      <th>dst_host_srv_count</th>\n",
              "      <th>dst_host_same_srv_rate</th>\n",
              "      <th>dst_host_diff_srv_rate</th>\n",
              "      <th>dst_host_same_src_port_rate</th>\n",
              "      <th>dst_host_srv_diff_host_rate</th>\n",
              "      <th>dst_host_serror_rate</th>\n",
              "      <th>dst_host_srv_serror_rate</th>\n",
              "      <th>dst_host_rerror_rate</th>\n",
              "      <th>dst_host_srv_rerror_rate</th>\n",
              "      <th>icmp</th>\n",
              "      <th>tcp</th>\n",
              "      <th>...</th>\n",
              "      <th>service__netstat</th>\n",
              "      <th>service__nnsp</th>\n",
              "      <th>service__nntp</th>\n",
              "      <th>service__ntp_u</th>\n",
              "      <th>service__other</th>\n",
              "      <th>service__pm_dump</th>\n",
              "      <th>service__pop_2</th>\n",
              "      <th>service__pop_3</th>\n",
              "      <th>service__printer</th>\n",
              "      <th>service__private</th>\n",
              "      <th>service__red_i</th>\n",
              "      <th>service__remote_job</th>\n",
              "      <th>service__rje</th>\n",
              "      <th>service__shell</th>\n",
              "      <th>service__smtp</th>\n",
              "      <th>service__sql_net</th>\n",
              "      <th>service__ssh</th>\n",
              "      <th>service__sunrpc</th>\n",
              "      <th>service__supdup</th>\n",
              "      <th>service__systat</th>\n",
              "      <th>service__telnet</th>\n",
              "      <th>service__tim_i</th>\n",
              "      <th>service__time</th>\n",
              "      <th>service__urh_i</th>\n",
              "      <th>service__urp_i</th>\n",
              "      <th>service__uucp</th>\n",
              "      <th>service__uucp_path</th>\n",
              "      <th>service__vmnet</th>\n",
              "      <th>service__whois</th>\n",
              "      <th>flag___OTH</th>\n",
              "      <th>flag___REJ</th>\n",
              "      <th>flag___RSTO</th>\n",
              "      <th>flag___RSTOS0</th>\n",
              "      <th>flag___RSTR</th>\n",
              "      <th>flag___S0</th>\n",
              "      <th>flag___S1</th>\n",
              "      <th>flag___S2</th>\n",
              "      <th>flag___S3</th>\n",
              "      <th>flag___SF</th>\n",
              "      <th>flag___SH</th>\n",
              "    </tr>\n",
              "  </thead>\n",
              "  <tbody>\n",
              "    <tr>\n",
              "      <th>0</th>\n",
              "      <td>0</td>\n",
              "      <td>491</td>\n",
              "      <td>0</td>\n",
              "      <td>0</td>\n",
              "      <td>0</td>\n",
              "      <td>0</td>\n",
              "      <td>0</td>\n",
              "      <td>0</td>\n",
              "      <td>0</td>\n",
              "      <td>0</td>\n",
              "      <td>0</td>\n",
              "      <td>0</td>\n",
              "      <td>0</td>\n",
              "      <td>0</td>\n",
              "      <td>0</td>\n",
              "      <td>0</td>\n",
              "      <td>0</td>\n",
              "      <td>0</td>\n",
              "      <td>0</td>\n",
              "      <td>2</td>\n",
              "      <td>2</td>\n",
              "      <td>0.0</td>\n",
              "      <td>0.0</td>\n",
              "      <td>0.0</td>\n",
              "      <td>0.0</td>\n",
              "      <td>1.00</td>\n",
              "      <td>0.00</td>\n",
              "      <td>0.00</td>\n",
              "      <td>150</td>\n",
              "      <td>25</td>\n",
              "      <td>0.17</td>\n",
              "      <td>0.03</td>\n",
              "      <td>0.17</td>\n",
              "      <td>0.00</td>\n",
              "      <td>0.00</td>\n",
              "      <td>0.00</td>\n",
              "      <td>0.05</td>\n",
              "      <td>0.00</td>\n",
              "      <td>0</td>\n",
              "      <td>1</td>\n",
              "      <td>...</td>\n",
              "      <td>0</td>\n",
              "      <td>0</td>\n",
              "      <td>0</td>\n",
              "      <td>0</td>\n",
              "      <td>0</td>\n",
              "      <td>0</td>\n",
              "      <td>0</td>\n",
              "      <td>0</td>\n",
              "      <td>0</td>\n",
              "      <td>0</td>\n",
              "      <td>0</td>\n",
              "      <td>0</td>\n",
              "      <td>0</td>\n",
              "      <td>0</td>\n",
              "      <td>0</td>\n",
              "      <td>0</td>\n",
              "      <td>0</td>\n",
              "      <td>0</td>\n",
              "      <td>0</td>\n",
              "      <td>0</td>\n",
              "      <td>0</td>\n",
              "      <td>0</td>\n",
              "      <td>0</td>\n",
              "      <td>0</td>\n",
              "      <td>0</td>\n",
              "      <td>0</td>\n",
              "      <td>0</td>\n",
              "      <td>0</td>\n",
              "      <td>0</td>\n",
              "      <td>0</td>\n",
              "      <td>0</td>\n",
              "      <td>0</td>\n",
              "      <td>0</td>\n",
              "      <td>0</td>\n",
              "      <td>0</td>\n",
              "      <td>0</td>\n",
              "      <td>0</td>\n",
              "      <td>0</td>\n",
              "      <td>1</td>\n",
              "      <td>0</td>\n",
              "    </tr>\n",
              "    <tr>\n",
              "      <th>1</th>\n",
              "      <td>0</td>\n",
              "      <td>146</td>\n",
              "      <td>0</td>\n",
              "      <td>0</td>\n",
              "      <td>0</td>\n",
              "      <td>0</td>\n",
              "      <td>0</td>\n",
              "      <td>0</td>\n",
              "      <td>0</td>\n",
              "      <td>0</td>\n",
              "      <td>0</td>\n",
              "      <td>0</td>\n",
              "      <td>0</td>\n",
              "      <td>0</td>\n",
              "      <td>0</td>\n",
              "      <td>0</td>\n",
              "      <td>0</td>\n",
              "      <td>0</td>\n",
              "      <td>0</td>\n",
              "      <td>13</td>\n",
              "      <td>1</td>\n",
              "      <td>0.0</td>\n",
              "      <td>0.0</td>\n",
              "      <td>0.0</td>\n",
              "      <td>0.0</td>\n",
              "      <td>0.08</td>\n",
              "      <td>0.15</td>\n",
              "      <td>0.00</td>\n",
              "      <td>255</td>\n",
              "      <td>1</td>\n",
              "      <td>0.00</td>\n",
              "      <td>0.60</td>\n",
              "      <td>0.88</td>\n",
              "      <td>0.00</td>\n",
              "      <td>0.00</td>\n",
              "      <td>0.00</td>\n",
              "      <td>0.00</td>\n",
              "      <td>0.00</td>\n",
              "      <td>0</td>\n",
              "      <td>0</td>\n",
              "      <td>...</td>\n",
              "      <td>0</td>\n",
              "      <td>0</td>\n",
              "      <td>0</td>\n",
              "      <td>0</td>\n",
              "      <td>1</td>\n",
              "      <td>0</td>\n",
              "      <td>0</td>\n",
              "      <td>0</td>\n",
              "      <td>0</td>\n",
              "      <td>0</td>\n",
              "      <td>0</td>\n",
              "      <td>0</td>\n",
              "      <td>0</td>\n",
              "      <td>0</td>\n",
              "      <td>0</td>\n",
              "      <td>0</td>\n",
              "      <td>0</td>\n",
              "      <td>0</td>\n",
              "      <td>0</td>\n",
              "      <td>0</td>\n",
              "      <td>0</td>\n",
              "      <td>0</td>\n",
              "      <td>0</td>\n",
              "      <td>0</td>\n",
              "      <td>0</td>\n",
              "      <td>0</td>\n",
              "      <td>0</td>\n",
              "      <td>0</td>\n",
              "      <td>0</td>\n",
              "      <td>0</td>\n",
              "      <td>0</td>\n",
              "      <td>0</td>\n",
              "      <td>0</td>\n",
              "      <td>0</td>\n",
              "      <td>0</td>\n",
              "      <td>0</td>\n",
              "      <td>0</td>\n",
              "      <td>0</td>\n",
              "      <td>1</td>\n",
              "      <td>0</td>\n",
              "    </tr>\n",
              "    <tr>\n",
              "      <th>2</th>\n",
              "      <td>0</td>\n",
              "      <td>0</td>\n",
              "      <td>0</td>\n",
              "      <td>0</td>\n",
              "      <td>0</td>\n",
              "      <td>0</td>\n",
              "      <td>0</td>\n",
              "      <td>0</td>\n",
              "      <td>0</td>\n",
              "      <td>0</td>\n",
              "      <td>0</td>\n",
              "      <td>0</td>\n",
              "      <td>0</td>\n",
              "      <td>0</td>\n",
              "      <td>0</td>\n",
              "      <td>0</td>\n",
              "      <td>0</td>\n",
              "      <td>0</td>\n",
              "      <td>0</td>\n",
              "      <td>123</td>\n",
              "      <td>6</td>\n",
              "      <td>1.0</td>\n",
              "      <td>1.0</td>\n",
              "      <td>0.0</td>\n",
              "      <td>0.0</td>\n",
              "      <td>0.05</td>\n",
              "      <td>0.07</td>\n",
              "      <td>0.00</td>\n",
              "      <td>255</td>\n",
              "      <td>26</td>\n",
              "      <td>0.10</td>\n",
              "      <td>0.05</td>\n",
              "      <td>0.00</td>\n",
              "      <td>0.00</td>\n",
              "      <td>1.00</td>\n",
              "      <td>1.00</td>\n",
              "      <td>0.00</td>\n",
              "      <td>0.00</td>\n",
              "      <td>0</td>\n",
              "      <td>1</td>\n",
              "      <td>...</td>\n",
              "      <td>0</td>\n",
              "      <td>0</td>\n",
              "      <td>0</td>\n",
              "      <td>0</td>\n",
              "      <td>0</td>\n",
              "      <td>0</td>\n",
              "      <td>0</td>\n",
              "      <td>0</td>\n",
              "      <td>0</td>\n",
              "      <td>1</td>\n",
              "      <td>0</td>\n",
              "      <td>0</td>\n",
              "      <td>0</td>\n",
              "      <td>0</td>\n",
              "      <td>0</td>\n",
              "      <td>0</td>\n",
              "      <td>0</td>\n",
              "      <td>0</td>\n",
              "      <td>0</td>\n",
              "      <td>0</td>\n",
              "      <td>0</td>\n",
              "      <td>0</td>\n",
              "      <td>0</td>\n",
              "      <td>0</td>\n",
              "      <td>0</td>\n",
              "      <td>0</td>\n",
              "      <td>0</td>\n",
              "      <td>0</td>\n",
              "      <td>0</td>\n",
              "      <td>0</td>\n",
              "      <td>0</td>\n",
              "      <td>0</td>\n",
              "      <td>0</td>\n",
              "      <td>0</td>\n",
              "      <td>1</td>\n",
              "      <td>0</td>\n",
              "      <td>0</td>\n",
              "      <td>0</td>\n",
              "      <td>0</td>\n",
              "      <td>0</td>\n",
              "    </tr>\n",
              "    <tr>\n",
              "      <th>3</th>\n",
              "      <td>0</td>\n",
              "      <td>232</td>\n",
              "      <td>8153</td>\n",
              "      <td>0</td>\n",
              "      <td>0</td>\n",
              "      <td>0</td>\n",
              "      <td>0</td>\n",
              "      <td>0</td>\n",
              "      <td>1</td>\n",
              "      <td>0</td>\n",
              "      <td>0</td>\n",
              "      <td>0</td>\n",
              "      <td>0</td>\n",
              "      <td>0</td>\n",
              "      <td>0</td>\n",
              "      <td>0</td>\n",
              "      <td>0</td>\n",
              "      <td>0</td>\n",
              "      <td>0</td>\n",
              "      <td>5</td>\n",
              "      <td>5</td>\n",
              "      <td>0.2</td>\n",
              "      <td>0.2</td>\n",
              "      <td>0.0</td>\n",
              "      <td>0.0</td>\n",
              "      <td>1.00</td>\n",
              "      <td>0.00</td>\n",
              "      <td>0.00</td>\n",
              "      <td>30</td>\n",
              "      <td>255</td>\n",
              "      <td>1.00</td>\n",
              "      <td>0.00</td>\n",
              "      <td>0.03</td>\n",
              "      <td>0.04</td>\n",
              "      <td>0.03</td>\n",
              "      <td>0.01</td>\n",
              "      <td>0.00</td>\n",
              "      <td>0.01</td>\n",
              "      <td>0</td>\n",
              "      <td>1</td>\n",
              "      <td>...</td>\n",
              "      <td>0</td>\n",
              "      <td>0</td>\n",
              "      <td>0</td>\n",
              "      <td>0</td>\n",
              "      <td>0</td>\n",
              "      <td>0</td>\n",
              "      <td>0</td>\n",
              "      <td>0</td>\n",
              "      <td>0</td>\n",
              "      <td>0</td>\n",
              "      <td>0</td>\n",
              "      <td>0</td>\n",
              "      <td>0</td>\n",
              "      <td>0</td>\n",
              "      <td>0</td>\n",
              "      <td>0</td>\n",
              "      <td>0</td>\n",
              "      <td>0</td>\n",
              "      <td>0</td>\n",
              "      <td>0</td>\n",
              "      <td>0</td>\n",
              "      <td>0</td>\n",
              "      <td>0</td>\n",
              "      <td>0</td>\n",
              "      <td>0</td>\n",
              "      <td>0</td>\n",
              "      <td>0</td>\n",
              "      <td>0</td>\n",
              "      <td>0</td>\n",
              "      <td>0</td>\n",
              "      <td>0</td>\n",
              "      <td>0</td>\n",
              "      <td>0</td>\n",
              "      <td>0</td>\n",
              "      <td>0</td>\n",
              "      <td>0</td>\n",
              "      <td>0</td>\n",
              "      <td>0</td>\n",
              "      <td>1</td>\n",
              "      <td>0</td>\n",
              "    </tr>\n",
              "    <tr>\n",
              "      <th>4</th>\n",
              "      <td>0</td>\n",
              "      <td>199</td>\n",
              "      <td>420</td>\n",
              "      <td>0</td>\n",
              "      <td>0</td>\n",
              "      <td>0</td>\n",
              "      <td>0</td>\n",
              "      <td>0</td>\n",
              "      <td>1</td>\n",
              "      <td>0</td>\n",
              "      <td>0</td>\n",
              "      <td>0</td>\n",
              "      <td>0</td>\n",
              "      <td>0</td>\n",
              "      <td>0</td>\n",
              "      <td>0</td>\n",
              "      <td>0</td>\n",
              "      <td>0</td>\n",
              "      <td>0</td>\n",
              "      <td>30</td>\n",
              "      <td>32</td>\n",
              "      <td>0.0</td>\n",
              "      <td>0.0</td>\n",
              "      <td>0.0</td>\n",
              "      <td>0.0</td>\n",
              "      <td>1.00</td>\n",
              "      <td>0.00</td>\n",
              "      <td>0.09</td>\n",
              "      <td>255</td>\n",
              "      <td>255</td>\n",
              "      <td>1.00</td>\n",
              "      <td>0.00</td>\n",
              "      <td>0.00</td>\n",
              "      <td>0.00</td>\n",
              "      <td>0.00</td>\n",
              "      <td>0.00</td>\n",
              "      <td>0.00</td>\n",
              "      <td>0.00</td>\n",
              "      <td>0</td>\n",
              "      <td>1</td>\n",
              "      <td>...</td>\n",
              "      <td>0</td>\n",
              "      <td>0</td>\n",
              "      <td>0</td>\n",
              "      <td>0</td>\n",
              "      <td>0</td>\n",
              "      <td>0</td>\n",
              "      <td>0</td>\n",
              "      <td>0</td>\n",
              "      <td>0</td>\n",
              "      <td>0</td>\n",
              "      <td>0</td>\n",
              "      <td>0</td>\n",
              "      <td>0</td>\n",
              "      <td>0</td>\n",
              "      <td>0</td>\n",
              "      <td>0</td>\n",
              "      <td>0</td>\n",
              "      <td>0</td>\n",
              "      <td>0</td>\n",
              "      <td>0</td>\n",
              "      <td>0</td>\n",
              "      <td>0</td>\n",
              "      <td>0</td>\n",
              "      <td>0</td>\n",
              "      <td>0</td>\n",
              "      <td>0</td>\n",
              "      <td>0</td>\n",
              "      <td>0</td>\n",
              "      <td>0</td>\n",
              "      <td>0</td>\n",
              "      <td>0</td>\n",
              "      <td>0</td>\n",
              "      <td>0</td>\n",
              "      <td>0</td>\n",
              "      <td>0</td>\n",
              "      <td>0</td>\n",
              "      <td>0</td>\n",
              "      <td>0</td>\n",
              "      <td>1</td>\n",
              "      <td>0</td>\n",
              "    </tr>\n",
              "  </tbody>\n",
              "</table>\n",
              "<p>5 rows × 118 columns</p>\n",
              "</div>\n",
              "      <button class=\"colab-df-convert\" onclick=\"convertToInteractive('df-11744d17-5b31-4ffc-af62-1bb059b9cc15')\"\n",
              "              title=\"Convert this dataframe to an interactive table.\"\n",
              "              style=\"display:none;\">\n",
              "        \n",
              "  <svg xmlns=\"http://www.w3.org/2000/svg\" height=\"24px\"viewBox=\"0 0 24 24\"\n",
              "       width=\"24px\">\n",
              "    <path d=\"M0 0h24v24H0V0z\" fill=\"none\"/>\n",
              "    <path d=\"M18.56 5.44l.94 2.06.94-2.06 2.06-.94-2.06-.94-.94-2.06-.94 2.06-2.06.94zm-11 1L8.5 8.5l.94-2.06 2.06-.94-2.06-.94L8.5 2.5l-.94 2.06-2.06.94zm10 10l.94 2.06.94-2.06 2.06-.94-2.06-.94-.94-2.06-.94 2.06-2.06.94z\"/><path d=\"M17.41 7.96l-1.37-1.37c-.4-.4-.92-.59-1.43-.59-.52 0-1.04.2-1.43.59L10.3 9.45l-7.72 7.72c-.78.78-.78 2.05 0 2.83L4 21.41c.39.39.9.59 1.41.59.51 0 1.02-.2 1.41-.59l7.78-7.78 2.81-2.81c.8-.78.8-2.07 0-2.86zM5.41 20L4 18.59l7.72-7.72 1.47 1.35L5.41 20z\"/>\n",
              "  </svg>\n",
              "      </button>\n",
              "      \n",
              "  <style>\n",
              "    .colab-df-container {\n",
              "      display:flex;\n",
              "      flex-wrap:wrap;\n",
              "      gap: 12px;\n",
              "    }\n",
              "\n",
              "    .colab-df-convert {\n",
              "      background-color: #E8F0FE;\n",
              "      border: none;\n",
              "      border-radius: 50%;\n",
              "      cursor: pointer;\n",
              "      display: none;\n",
              "      fill: #1967D2;\n",
              "      height: 32px;\n",
              "      padding: 0 0 0 0;\n",
              "      width: 32px;\n",
              "    }\n",
              "\n",
              "    .colab-df-convert:hover {\n",
              "      background-color: #E2EBFA;\n",
              "      box-shadow: 0px 1px 2px rgba(60, 64, 67, 0.3), 0px 1px 3px 1px rgba(60, 64, 67, 0.15);\n",
              "      fill: #174EA6;\n",
              "    }\n",
              "\n",
              "    [theme=dark] .colab-df-convert {\n",
              "      background-color: #3B4455;\n",
              "      fill: #D2E3FC;\n",
              "    }\n",
              "\n",
              "    [theme=dark] .colab-df-convert:hover {\n",
              "      background-color: #434B5C;\n",
              "      box-shadow: 0px 1px 3px 1px rgba(0, 0, 0, 0.15);\n",
              "      filter: drop-shadow(0px 1px 2px rgba(0, 0, 0, 0.3));\n",
              "      fill: #FFFFFF;\n",
              "    }\n",
              "  </style>\n",
              "\n",
              "      <script>\n",
              "        const buttonEl =\n",
              "          document.querySelector('#df-11744d17-5b31-4ffc-af62-1bb059b9cc15 button.colab-df-convert');\n",
              "        buttonEl.style.display =\n",
              "          google.colab.kernel.accessAllowed ? 'block' : 'none';\n",
              "\n",
              "        async function convertToInteractive(key) {\n",
              "          const element = document.querySelector('#df-11744d17-5b31-4ffc-af62-1bb059b9cc15');\n",
              "          const dataTable =\n",
              "            await google.colab.kernel.invokeFunction('convertToInteractive',\n",
              "                                                     [key], {});\n",
              "          if (!dataTable) return;\n",
              "\n",
              "          const docLinkHtml = 'Like what you see? Visit the ' +\n",
              "            '<a target=\"_blank\" href=https://colab.research.google.com/notebooks/data_table.ipynb>data table notebook</a>'\n",
              "            + ' to learn more about interactive tables.';\n",
              "          element.innerHTML = '';\n",
              "          dataTable['output_type'] = 'display_data';\n",
              "          await google.colab.output.renderOutput(dataTable, element);\n",
              "          const docLink = document.createElement('div');\n",
              "          docLink.innerHTML = docLinkHtml;\n",
              "          element.appendChild(docLink);\n",
              "        }\n",
              "      </script>\n",
              "    </div>\n",
              "  </div>\n",
              "  "
            ],
            "text/plain": [
              "   duration  src_bytes  dst_bytes  ...  flag___S3  flag___SF  flag___SH\n",
              "0         0        491          0  ...          0          1          0\n",
              "1         0        146          0  ...          0          1          0\n",
              "2         0          0          0  ...          0          0          0\n",
              "3         0        232       8153  ...          0          1          0\n",
              "4         0        199        420  ...          0          1          0\n",
              "\n",
              "[5 rows x 118 columns]"
            ]
          },
          "metadata": {},
          "execution_count": 56
        }
      ],
      "source": [
        "X1 = df.drop('attack', axis=1).copy()\n",
        "X1.head()"
      ]
    },
    {
      "cell_type": "code",
      "execution_count": null,
      "id": "HBJNDvBWc5Fg",
      "metadata": {
        "id": "HBJNDvBWc5Fg"
      },
      "outputs": [],
      "source": [
        "y1 =df['attack'].copy()"
      ]
    },
    {
      "cell_type": "code",
      "execution_count": null,
      "id": "DNt2xnimdFaN",
      "metadata": {
        "colab": {
          "base_uri": "https://localhost:8080/"
        },
        "id": "DNt2xnimdFaN",
        "outputId": "ed8319e9-7683-4d07-974f-0d65ca8cd211"
      },
      "outputs": [
        {
          "output_type": "execute_result",
          "data": {
            "text/plain": [
              "duration                         int64\n",
              "protocol_type                   object\n",
              "service                         object\n",
              "flag                            object\n",
              "src_bytes                        int64\n",
              "dst_bytes                        int64\n",
              "land                             int64\n",
              "wrong_fragment                   int64\n",
              "urgent                           int64\n",
              "hot                              int64\n",
              "num_failed_logins                int64\n",
              "logged_in                        int64\n",
              "num_compromised                  int64\n",
              "root_shell                       int64\n",
              "su_attempted                     int64\n",
              "num_root                         int64\n",
              "num_file_creations               int64\n",
              "num_shells                       int64\n",
              "num_access_files                 int64\n",
              "num_outbound_cmds                int64\n",
              "is_host_login                    int64\n",
              "is_guest_login                   int64\n",
              "count                            int64\n",
              "srv_count                        int64\n",
              "serror_rate                    float64\n",
              "srv_serror_rate                float64\n",
              "rerror_rate                    float64\n",
              "srv_rerror_rate                float64\n",
              "same_srv_rate                  float64\n",
              "diff_srv_rate                  float64\n",
              "srv_diff_host_rate             float64\n",
              "dst_host_count                   int64\n",
              "dst_host_srv_count               int64\n",
              "dst_host_same_srv_rate         float64\n",
              "dst_host_diff_srv_rate         float64\n",
              "dst_host_same_src_port_rate    float64\n",
              "dst_host_srv_diff_host_rate    float64\n",
              "dst_host_serror_rate           float64\n",
              "dst_host_srv_serror_rate       float64\n",
              "dst_host_rerror_rate           float64\n",
              "dst_host_srv_rerror_rate       float64\n",
              "dtype: object"
            ]
          },
          "metadata": {},
          "execution_count": 158
        }
      ],
      "source": [
        "X1.dtypes"
      ]
    },
    {
      "cell_type": "code",
      "execution_count": null,
      "id": "l542nN8Gfgiz",
      "metadata": {
        "colab": {
          "base_uri": "https://localhost:8080/"
        },
        "id": "l542nN8Gfgiz",
        "outputId": "6bad0a30-1c8d-4e38-f35d-49550562f7a1"
      },
      "outputs": [
        {
          "output_type": "execute_result",
          "data": {
            "text/plain": [
              "array([1, 0])"
            ]
          },
          "metadata": {},
          "execution_count": 160
        }
      ],
      "source": [
        "y1.unique()"
      ]
    },
    {
      "cell_type": "code",
      "execution_count": null,
      "id": "WpOQz-7LgPl0",
      "metadata": {
        "colab": {
          "base_uri": "https://localhost:8080/"
        },
        "id": "WpOQz-7LgPl0",
        "outputId": "bfce0d00-4fd7-4237-f019-ce4b1b900792"
      },
      "outputs": [
        {
          "output_type": "execute_result",
          "data": {
            "text/plain": [
              "0.5338599555414417"
            ]
          },
          "metadata": {},
          "execution_count": 161
        }
      ],
      "source": [
        "sum(y1)/len(y1)"
      ]
    },
    {
      "cell_type": "code",
      "execution_count": null,
      "id": "JNnf2mZngY3x",
      "metadata": {
        "colab": {
          "base_uri": "https://localhost:8080/"
        },
        "id": "JNnf2mZngY3x",
        "outputId": "c737590d-7043-4dc9-9832-abd591e4d0f9"
      },
      "outputs": [
        {
          "output_type": "execute_result",
          "data": {
            "text/plain": [
              "0.5360099807190655"
            ]
          },
          "metadata": {},
          "execution_count": 162
        }
      ],
      "source": [
        "sum(y_Train)/len(y_Train)"
      ]
    },
    {
      "cell_type": "code",
      "execution_count": null,
      "id": "EYtWNEAagn_l",
      "metadata": {
        "colab": {
          "base_uri": "https://localhost:8080/"
        },
        "id": "EYtWNEAagn_l",
        "outputId": "ef792ad2-4fee-4e19-9441-59742bed0d09"
      },
      "outputs": [
        {
          "output_type": "execute_result",
          "data": {
            "text/plain": [
              "0.5288436094204816"
            ]
          },
          "metadata": {},
          "execution_count": 163
        }
      ],
      "source": [
        "sum(y_test)/len(y_test)"
      ]
    },
    {
      "cell_type": "code",
      "execution_count": 57,
      "id": "Gaq70jOPgvYN",
      "metadata": {
        "colab": {
          "base_uri": "https://localhost:8080/"
        },
        "id": "Gaq70jOPgvYN",
        "outputId": "622208fe-f869-4425-c531-a276540f5098"
      },
      "outputs": [
        {
          "output_type": "stream",
          "name": "stdout",
          "text": [
            "[0]\tvalidation_0-aucpr:0.980579\n",
            "Will train until validation_0-aucpr hasn't improved in 10 rounds.\n",
            "[1]\tvalidation_0-aucpr:0.980282\n",
            "[2]\tvalidation_0-aucpr:0.980432\n",
            "[3]\tvalidation_0-aucpr:0.980461\n",
            "[4]\tvalidation_0-aucpr:0.981668\n",
            "[5]\tvalidation_0-aucpr:0.981714\n",
            "[6]\tvalidation_0-aucpr:0.983199\n",
            "[7]\tvalidation_0-aucpr:0.983209\n",
            "[8]\tvalidation_0-aucpr:0.983303\n",
            "[9]\tvalidation_0-aucpr:0.983297\n",
            "[10]\tvalidation_0-aucpr:0.998057\n",
            "[11]\tvalidation_0-aucpr:0.99809\n",
            "[12]\tvalidation_0-aucpr:0.998189\n",
            "[13]\tvalidation_0-aucpr:0.998299\n",
            "[14]\tvalidation_0-aucpr:0.998433\n",
            "[15]\tvalidation_0-aucpr:0.998606\n",
            "[16]\tvalidation_0-aucpr:0.998684\n",
            "[17]\tvalidation_0-aucpr:0.998774\n",
            "[18]\tvalidation_0-aucpr:0.998876\n",
            "[19]\tvalidation_0-aucpr:0.999024\n",
            "[20]\tvalidation_0-aucpr:0.999091\n",
            "[21]\tvalidation_0-aucpr:0.999133\n",
            "[22]\tvalidation_0-aucpr:0.999176\n",
            "[23]\tvalidation_0-aucpr:0.999179\n",
            "[24]\tvalidation_0-aucpr:0.999247\n",
            "[25]\tvalidation_0-aucpr:0.99923\n",
            "[26]\tvalidation_0-aucpr:0.999237\n",
            "[27]\tvalidation_0-aucpr:0.999482\n",
            "[28]\tvalidation_0-aucpr:0.999562\n",
            "[29]\tvalidation_0-aucpr:0.999559\n",
            "[30]\tvalidation_0-aucpr:0.999555\n",
            "[31]\tvalidation_0-aucpr:0.999549\n",
            "[32]\tvalidation_0-aucpr:0.999554\n",
            "[33]\tvalidation_0-aucpr:0.999569\n",
            "[34]\tvalidation_0-aucpr:0.999562\n",
            "[35]\tvalidation_0-aucpr:0.999573\n",
            "[36]\tvalidation_0-aucpr:0.999581\n",
            "[37]\tvalidation_0-aucpr:0.999587\n",
            "[38]\tvalidation_0-aucpr:0.999596\n",
            "[39]\tvalidation_0-aucpr:0.999601\n",
            "[40]\tvalidation_0-aucpr:0.999607\n",
            "[41]\tvalidation_0-aucpr:0.999622\n",
            "[42]\tvalidation_0-aucpr:0.999624\n",
            "[43]\tvalidation_0-aucpr:0.999632\n",
            "[44]\tvalidation_0-aucpr:0.99962\n",
            "[45]\tvalidation_0-aucpr:0.999636\n",
            "[46]\tvalidation_0-aucpr:0.999623\n",
            "[47]\tvalidation_0-aucpr:0.999617\n",
            "[48]\tvalidation_0-aucpr:0.999623\n",
            "[49]\tvalidation_0-aucpr:0.999635\n",
            "[50]\tvalidation_0-aucpr:0.999627\n",
            "[51]\tvalidation_0-aucpr:0.999621\n",
            "[52]\tvalidation_0-aucpr:0.999622\n",
            "[53]\tvalidation_0-aucpr:0.99963\n",
            "[54]\tvalidation_0-aucpr:0.999629\n",
            "[55]\tvalidation_0-aucpr:0.999633\n",
            "Stopping. Best iteration:\n",
            "[45]\tvalidation_0-aucpr:0.999636\n",
            "\n"
          ]
        },
        {
          "output_type": "execute_result",
          "data": {
            "text/plain": [
              "XGBClassifier()"
            ]
          },
          "metadata": {},
          "execution_count": 57
        }
      ],
      "source": [
        "clf_xgb = xgb.XGBClassifier(objective='binary:logistic')\n",
        "clf_xgb.fit(X_Train,\n",
        "            y_Train,\n",
        "            verbose=True,\n",
        "            early_stopping_rounds=10,\n",
        "            eval_metric='aucpr',\n",
        "            eval_set=[(X_test, y_test)])"
      ]
    },
    {
      "cell_type": "code",
      "execution_count": 58,
      "id": "ayiorLmzi1-c",
      "metadata": {
        "colab": {
          "base_uri": "https://localhost:8080/",
          "height": 296
        },
        "id": "ayiorLmzi1-c",
        "outputId": "6965591a-dbfa-4642-8899-5ac1e0d69ae2"
      },
      "outputs": [
        {
          "output_type": "execute_result",
          "data": {
            "text/plain": [
              "<sklearn.metrics._plot.confusion_matrix.ConfusionMatrixDisplay at 0x7f0b35433c10>"
            ]
          },
          "metadata": {},
          "execution_count": 58
        },
        {
          "output_type": "display_data",
          "data": {
            "image/png": "[encoded data removed]",
            "text/plain": [
              "<Figure size 432x288 with 2 Axes>"
            ]
          },
          "metadata": {
            "needs_background": "light"
          }
        }
      ],
      "source": [
        "from sklearn.metrics import plot_confusion_matrix\n",
        "plot_confusion_matrix(clf_xgb,\n",
        "                      X_test,\n",
        "                      y_test,\n",
        "                      values_format='d',\n",
        "                      display_labels=[\"0\", \"1\"])"
      ]
    },
    {
      "cell_type": "code",
      "execution_count": 59,
      "id": "n3WPycLuq05L",
      "metadata": {
        "colab": {
          "base_uri": "https://localhost:8080/"
        },
        "id": "n3WPycLuq05L",
        "outputId": "4eecbab4-9fe0-4df4-a3ba-2d9a9e5f16f6"
      },
      "outputs": [
        {
          "output_type": "execute_result",
          "data": {
            "text/plain": [
              "{'gamma': [0, 0.25, 1.0],\n",
              " 'learning_rate': [0.1, 0.01, 0.05],\n",
              " 'max_depth': [3, 4, 5],\n",
              " 'reg_lambda': [0, 1.0, 10.0],\n",
              " 'scale_pos_weight': [1, 3, 5]}"
            ]
          },
          "metadata": {},
          "execution_count": 59
        }
      ],
      "source": [
        "param_grid = {\n",
        "    'max_depth': [3, 4, 5],\n",
        "    'learning_rate': [0.1, 0.01, 0.05],\n",
        "    'gamma': [0, 0.25, 1.0],\n",
        "    'reg_lambda': [0, 1.0, 10.0],\n",
        "    'scale_pos_weight': [1, 3, 5]\n",
        "}\n",
        "param_grid"
      ]
    },
    {
      "cell_type": "code",
      "execution_count": 60,
      "id": "vTcj9Gkgq01P",
      "metadata": {
        "colab": {
          "base_uri": "https://localhost:8080/"
        },
        "id": "vTcj9Gkgq01P",
        "outputId": "54bbce11-40bc-4786-ed14-674847a89b66"
      },
      "outputs": [
        {
          "output_type": "stream",
          "name": "stdout",
          "text": [
            "Fitting 3 folds for each of 243 candidates, totalling 729 fits\n"
          ]
        },
        {
          "output_type": "execute_result",
          "data": {
            "text/plain": [
              "GridSearchCV(cv=3,\n",
              "             estimator=XGBClassifier(colsample_bytree=1.0, seed=42,\n",
              "                                     subsample=0.9),\n",
              "             n_jobs=10,\n",
              "             param_grid={'gamma': [0, 0.25, 1.0],\n",
              "                         'learning_rate': [0.1, 0.01, 0.05],\n",
              "                         'max_depth': [3, 4, 5], 'reg_lambda': [0, 1.0, 10.0],\n",
              "                         'scale_pos_weight': [1, 3, 5]},\n",
              "             scoring='roc_auc', verbose=2)"
            ]
          },
          "metadata": {},
          "execution_count": 60
        }
      ],
      "source": [
        "optimal_params = GridSearchCV(\n",
        "    estimator=xgb.XGBClassifier(objective='binary:logistic',\n",
        "                                seed=42,\n",
        "                                subsample=0.9,\n",
        "                                colsample_bytree=1.0),\n",
        "    param_grid=param_grid,\n",
        "    scoring='roc_auc',\n",
        "    verbose=2,\n",
        "    n_jobs=10,\n",
        "    cv=3                        \n",
        ")\n",
        "optimal_params.fit(x_train_s, y_Train)\n"
      ]
    },
    {
      "cell_type": "code",
      "source": [
        "optimal_params.best_params_"
      ],
      "metadata": {
        "colab": {
          "base_uri": "https://localhost:8080/"
        },
        "id": "778IReLTGwAg",
        "outputId": "cc5924af-d79b-4478-c63d-ce2c03f1d2d2"
      },
      "id": "778IReLTGwAg",
      "execution_count": 61,
      "outputs": [
        {
          "output_type": "execute_result",
          "data": {
            "text/plain": [
              "{'gamma': 0.25,\n",
              " 'learning_rate': 0.1,\n",
              " 'max_depth': 5,\n",
              " 'reg_lambda': 0,\n",
              " 'scale_pos_weight': 5}"
            ]
          },
          "metadata": {},
          "execution_count": 61
        }
      ]
    },
    {
      "cell_type": "code",
      "execution_count": 62,
      "id": "bsC517kHq0wU",
      "metadata": {
        "id": "bsC517kHq0wU",
        "colab": {
          "base_uri": "https://localhost:8080/"
        },
        "outputId": "7c7d274e-9188-42a5-ef64-b95f9572424b"
      },
      "outputs": [
        {
          "output_type": "stream",
          "name": "stdout",
          "text": [
            "[0]\tvalidation_0-aucpr:0.845056\n",
            "Will train until validation_0-aucpr hasn't improved in 10 rounds.\n",
            "[1]\tvalidation_0-aucpr:0.968463\n",
            "[2]\tvalidation_0-aucpr:0.969526\n",
            "[3]\tvalidation_0-aucpr:0.985184\n",
            "[4]\tvalidation_0-aucpr:0.98913\n",
            "[5]\tvalidation_0-aucpr:0.989328\n",
            "[6]\tvalidation_0-aucpr:0.989001\n",
            "[7]\tvalidation_0-aucpr:0.988403\n",
            "[8]\tvalidation_0-aucpr:0.991156\n",
            "[9]\tvalidation_0-aucpr:0.994008\n",
            "[10]\tvalidation_0-aucpr:0.995083\n",
            "[11]\tvalidation_0-aucpr:0.9961\n",
            "[12]\tvalidation_0-aucpr:0.996842\n",
            "[13]\tvalidation_0-aucpr:0.99654\n",
            "[14]\tvalidation_0-aucpr:0.996182\n",
            "[15]\tvalidation_0-aucpr:0.996193\n",
            "[16]\tvalidation_0-aucpr:0.996785\n",
            "[17]\tvalidation_0-aucpr:0.997284\n",
            "[18]\tvalidation_0-aucpr:0.997279\n",
            "[19]\tvalidation_0-aucpr:0.997277\n",
            "[20]\tvalidation_0-aucpr:0.997058\n",
            "[21]\tvalidation_0-aucpr:0.996955\n",
            "[22]\tvalidation_0-aucpr:0.99698\n",
            "[23]\tvalidation_0-aucpr:0.996995\n",
            "[24]\tvalidation_0-aucpr:0.996875\n",
            "[25]\tvalidation_0-aucpr:0.996909\n",
            "[26]\tvalidation_0-aucpr:0.996661\n",
            "[27]\tvalidation_0-aucpr:0.997001\n",
            "Stopping. Best iteration:\n",
            "[17]\tvalidation_0-aucpr:0.997284\n",
            "\n"
          ]
        },
        {
          "output_type": "execute_result",
          "data": {
            "text/plain": [
              "XGBClassifier(colsample_bytree=0.5, gamma=0.25, max_depth=5, reg_lambda=0,\n",
              "              scale_pos_weight=5, seed=42, subsample=0.9)"
            ]
          },
          "metadata": {},
          "execution_count": 62
        }
      ],
      "source": [
        "clf_xgb = xgb.XGBClassifier(seed=42,\n",
        "                            objective='binary:logistic',\n",
        "                            gamma= 0.25,\n",
        "                            learning_rate=0.1,\n",
        "                            max_depth=5,\n",
        "                            reg_lambda=0,\n",
        "                            scale_pos_weight=5,\n",
        "                            subsample=0.9,\n",
        "                            colsample_bytree=0.5)\n",
        "\n",
        "clf_xgb.fit(x_train_s,\n",
        "            y_Train,\n",
        "            verbose=True,\n",
        "            early_stopping_rounds=10,\n",
        "            eval_metric='aucpr',\n",
        "            eval_set=[(A_test_s, y_test)])"
      ]
    },
    {
      "cell_type": "code",
      "source": [
        "plot_confusion_matrix(clf_xgb,\n",
        "                      A_test_s,\n",
        "                      y_test,\n",
        "                      values_format='d',\n",
        "                      display_labels=[\"0\", \"1\"])"
      ],
      "metadata": {
        "colab": {
          "base_uri": "https://localhost:8080/",
          "height": 296
        },
        "id": "ZdyeLfvrgnR6",
        "outputId": "4748502a-a64d-46c0-a82f-8e7c7bd606af"
      },
      "id": "ZdyeLfvrgnR6",
      "execution_count": 63,
      "outputs": [
        {
          "output_type": "execute_result",
          "data": {
            "text/plain": [
              "<sklearn.metrics._plot.confusion_matrix.ConfusionMatrixDisplay at 0x7f0b2ca31cd0>"
            ]
          },
          "metadata": {},
          "execution_count": 63
        },
        {
          "output_type": "display_data",
          "data": {
            "image/png": "[encoded data removed]",
            "text/plain": [
              "<Figure size 432x288 with 2 Axes>"
            ]
          },
          "metadata": {
            "needs_background": "light"
          }
        }
      ]
    },
    {
      "cell_type": "code",
      "source": [
        "clf_xgb = xgb.XGBClassifier(seed=42,\n",
        "                            objective='binary:logistic',\n",
        "                            gamma= 0.25,\n",
        "                            learning_rate=0.1,\n",
        "                            max_depth=5,\n",
        "                            reg_lambda=0,\n",
        "                            scale_pos_weight=5,\n",
        "                            subsample=0.9,\n",
        "                            colsample_bytree=0.5,\n",
        "                            n_estimators=1)\n",
        "\n",
        "clf_xgb.fit(x_train_s,y_Train)"
      ],
      "metadata": {
        "colab": {
          "base_uri": "https://localhost:8080/"
        },
        "id": "4iZWBTGogrS_",
        "outputId": "a0655bdc-26db-4067-d974-41c82f66e196"
      },
      "id": "4iZWBTGogrS_",
      "execution_count": 64,
      "outputs": [
        {
          "output_type": "execute_result",
          "data": {
            "text/plain": [
              "XGBClassifier(colsample_bytree=0.5, gamma=0.25, max_depth=5, n_estimators=1,\n",
              "              reg_lambda=0, scale_pos_weight=5, seed=42, subsample=0.9)"
            ]
          },
          "metadata": {},
          "execution_count": 64
        }
      ]
    },
    {
      "cell_type": "code",
      "source": [
        "y_pred2= clf_xgb.predict(A_test_s) #x_test_s"
      ],
      "metadata": {
        "id": "QWzebtebWmWO"
      },
      "id": "QWzebtebWmWO",
      "execution_count": 65,
      "outputs": []
    },
    {
      "cell_type": "code",
      "source": [
        "print(classification_report(y_test, y_pred2))"
      ],
      "metadata": {
        "colab": {
          "base_uri": "https://localhost:8080/"
        },
        "id": "Z_E9mS29iXhZ",
        "outputId": "a48808eb-7eda-438b-931b-323f275de601"
      },
      "id": "Z_E9mS29iXhZ",
      "execution_count": 66,
      "outputs": [
        {
          "output_type": "stream",
          "name": "stdout",
          "text": [
            "              precision    recall  f1-score   support\n",
            "\n",
            "           0       0.69      1.00      0.81      3561\n",
            "           1       1.00      0.59      0.74      3997\n",
            "\n",
            "    accuracy                           0.78      7558\n",
            "   macro avg       0.84      0.80      0.78      7558\n",
            "weighted avg       0.85      0.78      0.78      7558\n",
            "\n"
          ]
        }
      ]
    },
    {
      "cell_type": "markdown",
      "id": "a06c729e",
      "metadata": {
        "id": "a06c729e"
      },
      "source": [
        "## BAGGED DECISION TREE"
      ]
    },
    {
      "cell_type": "code",
      "execution_count": 67,
      "id": "a305b4a3",
      "metadata": {
        "id": "a305b4a3"
      },
      "outputs": [],
      "source": [
        "from sklearn.ensemble import RandomForestClassifier\n",
        "from sklearn import model_selection\n",
        "from sklearn.ensemble import BaggingClassifier\n",
        "from sklearn.tree import DecisionTreeClassifier"
      ]
    },
    {
      "cell_type": "code",
      "execution_count": 68,
      "id": "1ab66d78",
      "metadata": {
        "colab": {
          "base_uri": "https://localhost:8080/"
        },
        "id": "1ab66d78",
        "outputId": "d5d950cd-3590-433f-e794-f79a0756720d"
      },
      "outputs": [
        {
          "output_type": "stream",
          "name": "stdout",
          "text": [
            "0.9965408889969296\n"
          ]
        }
      ],
      "source": [
        "seed = 7\n",
        "kfold = model_selection.KFold(n_splits=10, random_state=None)\n",
        "cart = DecisionTreeClassifier()\n",
        "num_trees = 100\n",
        "model = BaggingClassifier(base_estimator=cart, n_estimators=num_trees, random_state=seed)\n",
        "model.fit(X_Train, y_Train)\n",
        "results = model_selection.cross_val_score(model, X_Train, y_Train, cv=kfold)\n",
        "print(results.mean())"
      ]
    },
    {
      "cell_type": "code",
      "execution_count": 69,
      "id": "7c88fc87",
      "metadata": {
        "colab": {
          "base_uri": "https://localhost:8080/"
        },
        "id": "7c88fc87",
        "outputId": "e900fb52-68c0-43bb-f8a3-f923e71c0e11"
      },
      "outputs": [
        {
          "output_type": "execute_result",
          "data": {
            "text/plain": [
              "BaggingClassifier(base_estimator=DecisionTreeClassifier(), n_estimators=100,\n",
              "                  random_state=7)"
            ]
          },
          "metadata": {},
          "execution_count": 69
        }
      ],
      "source": [
        "model.fit(X_Train, y_Train)"
      ]
    },
    {
      "cell_type": "code",
      "execution_count": 70,
      "id": "5acef2cd",
      "metadata": {
        "colab": {
          "base_uri": "https://localhost:8080/"
        },
        "id": "5acef2cd",
        "outputId": "8535810d-1bb5-43b1-c8c5-97787d5e43e9"
      },
      "outputs": [
        {
          "output_type": "execute_result",
          "data": {
            "text/plain": [
              "array([0, 1, 1, ..., 0, 0, 1])"
            ]
          },
          "metadata": {},
          "execution_count": 70
        }
      ],
      "source": [
        "y_pred3=model.predict(X_test)\n",
        "y_pred"
      ]
    },
    {
      "cell_type": "code",
      "execution_count": 71,
      "id": "279d4326",
      "metadata": {
        "colab": {
          "base_uri": "https://localhost:8080/"
        },
        "id": "279d4326",
        "outputId": "5966bbf7-b58e-44f0-e76e-78c617aeac26"
      },
      "outputs": [
        {
          "output_type": "execute_result",
          "data": {
            "text/plain": [
              "0.997618417570786"
            ]
          },
          "metadata": {},
          "execution_count": 71
        }
      ],
      "source": [
        "accuracy_score( y_test, y_pred3 )"
      ]
    },
    {
      "cell_type": "code",
      "source": [
        "plot_confusion_matrix(model,\n",
        "                      A_test_s,\n",
        "                      y_test,\n",
        "                      values_format='d',\n",
        "                      display_labels=[\"0\", \"1\"])"
      ],
      "metadata": {
        "colab": {
          "base_uri": "https://localhost:8080/",
          "height": 296
        },
        "id": "wBy2NgoFXnWS",
        "outputId": "75bd06fb-2e22-4877-8d19-81a2702ad22e"
      },
      "id": "wBy2NgoFXnWS",
      "execution_count": 72,
      "outputs": [
        {
          "output_type": "execute_result",
          "data": {
            "text/plain": [
              "<sklearn.metrics._plot.confusion_matrix.ConfusionMatrixDisplay at 0x7f0b2c9a5950>"
            ]
          },
          "metadata": {},
          "execution_count": 72
        },
        {
          "output_type": "display_data",
          "data": {
            "image/png": "[encoded data removed]",
            "text/plain": [
              "<Figure size 432x288 with 2 Axes>"
            ]
          },
          "metadata": {
            "needs_background": "light"
          }
        }
      ]
    },
    {
      "cell_type": "markdown",
      "id": "347203fe",
      "metadata": {
        "id": "347203fe"
      },
      "source": [
        "## RANDOM FOREST"
      ]
    },
    {
      "cell_type": "code",
      "execution_count": 73,
      "id": "bce2a5ad",
      "metadata": {
        "id": "bce2a5ad"
      },
      "outputs": [],
      "source": [
        "from sklearn.ensemble import RandomForestClassifier"
      ]
    },
    {
      "cell_type": "code",
      "execution_count": 74,
      "id": "6c9d2a48",
      "metadata": {
        "id": "6c9d2a48"
      },
      "outputs": [],
      "source": [
        "# Grid search\n",
        "param_grid_f = { \n",
        "    'n_estimators': [10,20, 30,40],\n",
        "    'max_features': ['auto', 'sqrt', 'log2'],\n",
        "    'max_depth' : [4,5,6,7,8],\n",
        "    'criterion' :['gini', 'entropy']\n",
        "}"
      ]
    },
    {
      "cell_type": "code",
      "execution_count": 75,
      "id": "ff79104a",
      "metadata": {
        "colab": {
          "base_uri": "https://localhost:8080/"
        },
        "id": "ff79104a",
        "outputId": "243179e0-dcd6-4152-f6be-98ceb55566a3"
      },
      "outputs": [
        {
          "output_type": "execute_result",
          "data": {
            "text/plain": [
              "GridSearchCV(cv=5, estimator=RandomForestClassifier(),\n",
              "             param_grid={'criterion': ['gini', 'entropy'],\n",
              "                         'max_depth': [4, 5, 6, 7, 8],\n",
              "                         'max_features': ['auto', 'sqrt', 'log2'],\n",
              "                         'n_estimators': [10, 20, 30, 40]})"
            ]
          },
          "metadata": {},
          "execution_count": 75
        }
      ],
      "source": [
        "rfc=RandomForestClassifier()\n",
        "CV_rfc = GridSearchCV(rfc, param_grid=param_grid_f, cv= 5)\n",
        "CV_rfc.fit(X_Train, y_Train)"
      ]
    },
    {
      "cell_type": "code",
      "execution_count": 76,
      "id": "024a6ebf",
      "metadata": {
        "scrolled": true,
        "colab": {
          "base_uri": "https://localhost:8080/"
        },
        "id": "024a6ebf",
        "outputId": "23c2a817-a549-4d3b-c1eb-a50d15ea7034"
      },
      "outputs": [
        {
          "output_type": "execute_result",
          "data": {
            "text/plain": [
              "{'criterion': 'entropy',\n",
              " 'max_depth': 8,\n",
              " 'max_features': 'sqrt',\n",
              " 'n_estimators': 40}"
            ]
          },
          "metadata": {},
          "execution_count": 76
        }
      ],
      "source": [
        "CV_rfc.best_params_"
      ]
    },
    {
      "cell_type": "code",
      "execution_count": 78,
      "id": "0614d6af",
      "metadata": {
        "id": "0614d6af"
      },
      "outputs": [],
      "source": [
        "random_forest = RandomForestClassifier(criterion ='entropy',\n",
        " max_depth = 8,\n",
        " max_features= 'sqrt',\n",
        " n_estimators = 40 )\n",
        "random_forest.fit(X_Train, y_Train)\n",
        "random_pred = random_forest.predict(X_test)"
      ]
    },
    {
      "cell_type": "code",
      "execution_count": 79,
      "id": "118e8454",
      "metadata": {
        "colab": {
          "base_uri": "https://localhost:8080/"
        },
        "id": "118e8454",
        "outputId": "3f91d779-0657-4e22-c2be-6e5e6ed62194"
      },
      "outputs": [
        {
          "output_type": "stream",
          "name": "stdout",
          "text": [
            "              precision    recall  f1-score   support\n",
            "\n",
            "           0       1.00      0.98      0.99      3561\n",
            "           1       0.99      1.00      0.99      3997\n",
            "\n",
            "    accuracy                           0.99      7558\n",
            "   macro avg       0.99      0.99      0.99      7558\n",
            "weighted avg       0.99      0.99      0.99      7558\n",
            "\n"
          ]
        }
      ],
      "source": [
        "print(classification_report(y_test,random_pred))"
      ]
    },
    {
      "cell_type": "code",
      "source": [
        "accuracy_score( y_test, y_pred )"
      ],
      "metadata": {
        "colab": {
          "base_uri": "https://localhost:8080/"
        },
        "id": "Rt0rpCMyY44f",
        "outputId": "c3468dab-a2d1-4896-db50-ccdeb9898889"
      },
      "id": "Rt0rpCMyY44f",
      "execution_count": 80,
      "outputs": [
        {
          "output_type": "execute_result",
          "data": {
            "text/plain": [
              "0.9847843344800211"
            ]
          },
          "metadata": {},
          "execution_count": 80
        }
      ]
    },
    {
      "cell_type": "markdown",
      "id": "6b9cd1e7",
      "metadata": {
        "id": "6b9cd1e7"
      },
      "source": [
        "# Stacking"
      ]
    },
    {
      "cell_type": "code",
      "execution_count": 82,
      "id": "029cbd49",
      "metadata": {
        "id": "029cbd49"
      },
      "outputs": [],
      "source": [
        "from sklearn.ensemble import StackingClassifier\n",
        "from sklearn.linear_model import LassoCV\n",
        "from sklearn.linear_model import RidgeCV"
      ]
    },
    {
      "cell_type": "code",
      "execution_count": 83,
      "id": "11a3e127",
      "metadata": {
        "id": "11a3e127"
      },
      "outputs": [],
      "source": [
        "lr = LogisticRegression()\n",
        "KNN_model= KNeighborsClassifier(n_neighbors = 1) \n",
        "LOR_model = LogisticRegression(C =  0.001, penalty='l1')#grid search result\n",
        "RNDOM_model = RandomForestClassifier(criterion ='gini',\n",
        " max_depth = 8,\n",
        " max_features= 'auto',\n",
        " n_estimators = 30)#grid search result\n",
        "xgboost_model = xgb.XGBClassifier(gamma= 0.25,\n",
        "                                      learning_rate= 0.1,\n",
        "                                      max_depth= 5,\n",
        "                                      reg_lambda= 0,\n",
        "                                      scale_pos_weight= 5)\n",
        "# Get these models in a list\n",
        "estimators = {('KNe',k_neigh),\n",
        "              ('LogisticRegression',modalLogisr),\n",
        "              ('RandomForestClassifier',random_forest),\n",
        "              ('xgboost',clf_xgb)}"
      ]
    },
    {
      "cell_type": "code",
      "execution_count": 84,
      "id": "fdf76d1f",
      "metadata": {
        "colab": {
          "base_uri": "https://localhost:8080/",
          "height": 448
        },
        "id": "fdf76d1f",
        "outputId": "b6caa206-67fe-413c-f0f0-2e7c29c7a3e1"
      },
      "outputs": [
        {
          "output_type": "stream",
          "name": "stdout",
          "text": [
            "              precision    recall  f1-score   support\n",
            "\n",
            "           0       1.00      0.99      1.00      3561\n",
            "           1       1.00      1.00      1.00      3997\n",
            "\n",
            "    accuracy                           1.00      7558\n",
            "   macro avg       1.00      1.00      1.00      7558\n",
            "weighted avg       1.00      1.00      1.00      7558\n",
            "\n"
          ]
        },
        {
          "output_type": "display_data",
          "data": {
            "image/png": "[encoded data removed]",
            "text/plain": [
              "<Figure size 432x288 with 2 Axes>"
            ]
          },
          "metadata": {
            "needs_background": "light"
          }
        }
      ],
      "source": [
        "#Stack these models with StackingRegressor\n",
        "stacking_clf = StackingClassifier(estimators=estimators,\n",
        "                                       final_estimator=lr)\n",
        "stacking_clf.fit(X_Train,y_Train)\n",
        "pred = stacking_clf.predict(X_test)\n",
        "matrix = confusion_matrix(y_test, pred)\n",
        "sns.heatmap(matrix, annot=True, fmt=\"d\");\n",
        "plt.title('Confusion Matrix');\n",
        "plt.xlabel('Predicted');\n",
        "plt.ylabel('True');\n",
        "print(classification_report(y_test, pred))"
      ]
    },
    {
      "cell_type": "markdown",
      "id": "2c2a6576",
      "metadata": {
        "id": "2c2a6576"
      },
      "source": [
        " lgbmboost model"
      ]
    },
    {
      "cell_type": "code",
      "execution_count": 85,
      "id": "b87eb6b0",
      "metadata": {
        "id": "b87eb6b0"
      },
      "outputs": [],
      "source": [
        "import lightgbm as lgb"
      ]
    },
    {
      "cell_type": "code",
      "execution_count": 86,
      "id": "96b624eb",
      "metadata": {
        "id": "96b624eb"
      },
      "outputs": [],
      "source": [
        "from sklearn.model_selection import RandomizedSearchCV\n",
        "gb_2=lgb.LGBMClassifier()\n",
        "parameters_2 = {'num_leaves':[20,40,60,80,100], 'min_child_samples':[5,10,15],'max_depth':[5,10,20],\n",
        "             'learning_rate':[0.05,0.1,0.2],'reg_alpha':[0,0.01,0.03]}"
      ]
    },
    {
      "cell_type": "code",
      "execution_count": 87,
      "id": "c099f56b",
      "metadata": {
        "id": "c099f56b",
        "colab": {
          "base_uri": "https://localhost:8080/"
        },
        "outputId": "9065f6eb-1c9a-420d-d6fc-3693be73ac6e"
      },
      "outputs": [
        {
          "output_type": "execute_result",
          "data": {
            "text/plain": [
              "GridSearchCV(cv=5, estimator=LGBMClassifier(), n_jobs=-1,\n",
              "             param_grid={'learning_rate': [0.05, 0.1, 0.2],\n",
              "                         'max_depth': [5, 10, 20],\n",
              "                         'min_child_samples': [5, 10, 15],\n",
              "                         'num_leaves': [20, 40, 60, 80, 100],\n",
              "                         'reg_alpha': [0, 0.01, 0.03]},\n",
              "             scoring='precision')"
            ]
          },
          "metadata": {},
          "execution_count": 87
        }
      ],
      "source": [
        "lgmb_22 = GridSearchCV(gb_2, parameters_2, n_jobs=-1, scoring='precision',cv=5)\n",
        "lgmb_22.fit(X_Train,y_Train)"
      ]
    },
    {
      "cell_type": "code",
      "execution_count": 88,
      "id": "53a0b155",
      "metadata": {
        "id": "53a0b155",
        "colab": {
          "base_uri": "https://localhost:8080/"
        },
        "outputId": "eed14e42-b827-4f0e-e388-0a7c8508e763"
      },
      "outputs": [
        {
          "output_type": "stream",
          "name": "stdout",
          "text": [
            "{'learning_rate': 0.2, 'max_depth': 5, 'min_child_samples': 10, 'num_leaves': 40, 'reg_alpha': 0.03}\n"
          ]
        }
      ],
      "source": [
        "print(lgmb_22.best_params_)"
      ]
    },
    {
      "cell_type": "code",
      "execution_count": 89,
      "id": "1d6d6ba0",
      "metadata": {
        "id": "1d6d6ba0",
        "colab": {
          "base_uri": "https://localhost:8080/"
        },
        "outputId": "9d2b9242-d9d4-49ec-8e72-dc89c4e8f339"
      },
      "outputs": [
        {
          "output_type": "execute_result",
          "data": {
            "text/plain": [
              "LGBMClassifier(learning_rate=0.2, max_depth=5, min_child_samples=10,\n",
              "               num_leaves=40, reg_alpha=0.03)"
            ]
          },
          "metadata": {},
          "execution_count": 89
        }
      ],
      "source": [
        "modelgbm_2 = lgb.LGBMClassifier(learning_rate=0.2, max_depth= 5, min_child_samples= 10, num_leaves= 40, reg_alpha= 0.03)\n",
        "modelgbm_2.fit(X_Train,y_Train)"
      ]
    },
    {
      "cell_type": "code",
      "execution_count": 90,
      "id": "6cc363c1",
      "metadata": {
        "id": "6cc363c1"
      },
      "outputs": [],
      "source": [
        "y_lightgbm_pred_2 = modelgbm_2.predict(X_Train)"
      ]
    },
    {
      "cell_type": "code",
      "execution_count": 92,
      "id": "07cb8a9b",
      "metadata": {
        "id": "07cb8a9b",
        "colab": {
          "base_uri": "https://localhost:8080/"
        },
        "outputId": "04fd0cf4-2c0f-4b9a-e24f-ee864bcc1a23"
      },
      "outputs": [
        {
          "output_type": "stream",
          "name": "stdout",
          "text": [
            "              precision    recall  f1-score   support\n",
            "\n",
            "           0       0.98      0.99      0.98      3561\n",
            "           1       0.99      0.98      0.99      3997\n",
            "\n",
            "    accuracy                           0.98      7558\n",
            "   macro avg       0.98      0.98      0.98      7558\n",
            "weighted avg       0.98      0.98      0.98      7558\n",
            "\n"
          ]
        }
      ],
      "source": [
        "print(classification_report(y_test,y_pred))"
      ]
    },
    {
      "cell_type": "markdown",
      "source": [
        "# LinearSVC"
      ],
      "metadata": {
        "id": "7LUqBjXLHjea"
      },
      "id": "7LUqBjXLHjea"
    },
    {
      "cell_type": "code",
      "source": [
        "from sklearn.svm import LinearSVC\n",
        "from sklearn.feature_selection import SelectFromModel"
      ],
      "metadata": {
        "id": "2BWPdbTfHx2H"
      },
      "id": "2BWPdbTfHx2H",
      "execution_count": 93,
      "outputs": []
    },
    {
      "cell_type": "code",
      "source": [
        "thismodel =LinearSVC(random_state=0, tol=1e-5)"
      ],
      "metadata": {
        "id": "qMpvXbmAH8JH"
      },
      "id": "qMpvXbmAH8JH",
      "execution_count": 94,
      "outputs": []
    },
    {
      "cell_type": "code",
      "source": [
        "FeatureSelection = SelectFromModel(estimator = thismodel, max_features = None) # make sure that thismodel is well-defined\n",
        "X = FeatureSelection.fit_transform(X_Train, y_Train) "
      ],
      "metadata": {
        "id": "8xgGStj-H3dC"
      },
      "id": "8xgGStj-H3dC",
      "execution_count": 95,
      "outputs": []
    },
    {
      "cell_type": "code",
      "source": [
        "Xcc = df.drop('attack', axis=1)\n",
        "ycc = df['attack']"
      ],
      "metadata": {
        "id": "ScVotyLNIRzA"
      },
      "id": "ScVotyLNIRzA",
      "execution_count": 96,
      "outputs": []
    },
    {
      "cell_type": "code",
      "source": [
        "sel = SelectFromModel(LinearSVC()) \n",
        "sel.fit(X_Train, y_Train) \n",
        "\n",
        "selected_features = sel.transform(X_Train)\n",
        "sel.get_support()\n"
      ],
      "metadata": {
        "id": "ON1-rZ72IWdf",
        "colab": {
          "base_uri": "https://localhost:8080/"
        },
        "outputId": "c1dc91c1-9b5b-4dc4-9704-05d6cff9a75e"
      },
      "id": "ON1-rZ72IWdf",
      "execution_count": 97,
      "outputs": [
        {
          "output_type": "execute_result",
          "data": {
            "text/plain": [
              "array([False, False, False,  True,  True, False,  True,  True,  True,\n",
              "       False, False, False, False, False, False, False, False, False,\n",
              "       False, False, False, False,  True,  True,  True,  True,  True,\n",
              "       False, False, False,  True,  True,  True,  True,  True,  True,\n",
              "        True, False, False,  True, False, False, False, False,  True,\n",
              "       False, False, False, False, False, False, False,  True, False,\n",
              "        True, False, False, False,  True, False, False,  True, False,\n",
              "        True, False, False, False, False, False, False, False, False,\n",
              "       False,  True,  True, False, False, False, False, False, False,\n",
              "        True,  True, False, False, False, False,  True, False, False,\n",
              "       False, False, False, False,  True, False, False, False,  True,\n",
              "       False, False,  True,  True, False, False, False,  True, False,\n",
              "        True,  True, False, False,  True,  True,  True, False,  True,\n",
              "       False])"
            ]
          },
          "metadata": {},
          "execution_count": 97
        }
      ]
    },
    {
      "cell_type": "code",
      "source": [
        "thismodel.fit(X_Train, y_Train) "
      ],
      "metadata": {
        "colab": {
          "base_uri": "https://localhost:8080/"
        },
        "id": "-T334KrJixfb",
        "outputId": "424b68f9-47b2-4279-f25a-438fd9b686a3"
      },
      "id": "-T334KrJixfb",
      "execution_count": 100,
      "outputs": [
        {
          "output_type": "execute_result",
          "data": {
            "text/plain": [
              "LinearSVC(random_state=0, tol=1e-05)"
            ]
          },
          "metadata": {},
          "execution_count": 100
        }
      ]
    },
    {
      "cell_type": "code",
      "source": [
        "y_pred_sel = thismodel.predict(A_test_s)"
      ],
      "metadata": {
        "id": "tcjq26LeIcb5"
      },
      "id": "tcjq26LeIcb5",
      "execution_count": 103,
      "outputs": []
    },
    {
      "cell_type": "code",
      "source": [
        "from sklearn.metrics import accuracy_score\n",
        "accuracy_score(y_test, y_pred_sel)"
      ],
      "metadata": {
        "id": "j99UhpPuId8w",
        "colab": {
          "base_uri": "https://localhost:8080/"
        },
        "outputId": "a917b3c9-a932-4acb-f8a6-e4d333542ab1"
      },
      "id": "j99UhpPuId8w",
      "execution_count": 104,
      "outputs": [
        {
          "output_type": "execute_result",
          "data": {
            "text/plain": [
              "0.9330510717120931"
            ]
          },
          "metadata": {},
          "execution_count": 104
        }
      ]
    },
    {
      "cell_type": "code",
      "source": [
        "print(classification_report(y_test, y_pred_sel))"
      ],
      "metadata": {
        "colab": {
          "base_uri": "https://localhost:8080/"
        },
        "id": "zJDtz7qFIdxN",
        "outputId": "2bfbb008-5d07-40f6-c01a-133cfd378901"
      },
      "id": "zJDtz7qFIdxN",
      "execution_count": 105,
      "outputs": [
        {
          "output_type": "stream",
          "name": "stdout",
          "text": [
            "              precision    recall  f1-score   support\n",
            "\n",
            "           0       0.93      0.93      0.93      3561\n",
            "           1       0.94      0.93      0.94      3997\n",
            "\n",
            "    accuracy                           0.93      7558\n",
            "   macro avg       0.93      0.93      0.93      7558\n",
            "weighted avg       0.93      0.93      0.93      7558\n",
            "\n"
          ]
        }
      ]
    },
    {
      "cell_type": "code",
      "source": [
        "import sklearn.metrics as metrics\n",
        "\n",
        "nb_cm = metrics.confusion_matrix( y_test, y_pred_sel )\n",
        "sns.heatmap(nb_cm, annot=True,  fmt='.2f', xticklabels = [\"0\", \"1\"] , yticklabels = [\"0\", \"1\"] )\n",
        "plt.ylabel('True label')\n",
        "plt.xlabel('Predicted label')"
      ],
      "metadata": {
        "colab": {
          "base_uri": "https://localhost:8080/",
          "height": 296
        },
        "id": "qC6ss-5iIdXi",
        "outputId": "d6674d05-adaf-4c65-c5e3-86c7c0462aee"
      },
      "id": "qC6ss-5iIdXi",
      "execution_count": 106,
      "outputs": [
        {
          "output_type": "execute_result",
          "data": {
            "text/plain": [
              "Text(0.5, 15.0, 'Predicted label')"
            ]
          },
          "metadata": {},
          "execution_count": 106
        },
        {
          "output_type": "display_data",
          "data": {
            "image/png": "[encoded data removed]",
            "text/plain": [
              "<Figure size 432x288 with 2 Axes>"
            ]
          },
          "metadata": {
            "needs_background": "light"
          }
        }
      ]
    }
  ],
  "metadata": {
    "colab": {
      "name": "almostdone_2-2.ipynb",
      "provenance": [],
      "collapsed_sections": [
        "586f1c2c",
        "4ab5db1e",
        "ead514c0",
        "QoxrvTgdarFv"
      ]
    },
    "kernelspec": {
      "display_name": "Python 3",
      "language": "python",
      "name": "python3"
    },
    "language_info": {
      "codemirror_mode": {
        "name": "ipython",
        "version": 3
      },
      "file_extension": ".py",
      "mimetype": "text/x-python",
      "name": "python",
      "nbconvert_exporter": "python",
      "pygments_lexer": "ipython3",
      "version": "3.8.8"
    }
  },
  "nbformat": 4,
  "nbformat_minor": 5
}